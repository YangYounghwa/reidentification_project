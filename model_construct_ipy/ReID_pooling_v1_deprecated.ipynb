{
  "cells": [
    {
      "cell_type": "markdown",
      "metadata": {},
      "source": [
        "# NOT USED ANYMORE\n"
      ]
    },
    {
      "cell_type": "markdown",
      "metadata": {},
      "source": []
    },
    {
      "cell_type": "code",
      "execution_count": null,
      "metadata": {},
      "outputs": [],
      "source": []
    },
    {
      "cell_type": "code",
      "execution_count": 1,
      "metadata": {
        "colab": {
          "base_uri": "https://localhost:8080/"
        },
        "id": "LGPxXTvdKPzI",
        "outputId": "f285a16e-c22a-46ed-bbe8-2e80728e8796"
      },
      "outputs": [],
      "source": [
        "import os\n",
        "import glob\n",
        "import xml.etree.ElementTree as ET\n",
        "\n",
        "\n",
        "import torch\n",
        "import torch.nn as nn\n",
        "import torch.optim as optim\n",
        "from torch.utils.data import Dataset, DataLoader\n",
        "from torchvision.ops import RoIAlign\n",
        "from torchvision import transforms\n",
        "from ultralytics import YOLO\n",
        "\n",
        "import random\n",
        "import numpy as np"
      ]
    },
    {
      "cell_type": "markdown",
      "metadata": {},
      "source": []
    },
    {
      "cell_type": "code",
      "execution_count": 2,
      "metadata": {},
      "outputs": [
        {
          "name": "stdout",
          "output_type": "stream",
          "text": [
            "cuda\n"
          ]
        }
      ],
      "source": [
        "device ='cuda' if torch.cuda.is_available() else 'cpu'\n",
        "print(device)"
      ]
    },
    {
      "cell_type": "code",
      "execution_count": 3,
      "metadata": {
        "id": "SgF-z6FXKZIe"
      },
      "outputs": [],
      "source": [
        "from PIL import Image\n",
        "\n",
        "\n",
        "class ResizePad:\n",
        "    def __init__(self,size=(256,128),fill=0):\n",
        "        self.target_h, self.target_w = size\n",
        "        self.fill = fill\n",
        "    def __call__(self,img):\n",
        "        orig_w, orig_h = img.size\n",
        "        scale = min(self.target_w/orig_w, self.target_h/orig_h)\n",
        "        new_w, new_h = int(orig_w * scale),int(orig_h*scale)\n",
        "\n",
        "        img = img.resize((new_w,new_h), Image.BILINEAR)\n",
        "\n",
        "        new_img = Image.new(\"RGB\",(self.target_w,self.target_h),(self.fill,)*3)\n",
        "        paste_x = (self.target_w-new_w)//2\n",
        "        paste_y = (self.target_h-new_h)//2\n",
        "        new_img.paste(img,(paste_x,paste_y))\n",
        "\n",
        "        return new_img"
      ]
    },
    {
      "cell_type": "code",
      "execution_count": 4,
      "metadata": {
        "id": "ijRmu2sfslXM"
      },
      "outputs": [],
      "source": [
        "class FolderGroupedBatchDataset:\n",
        "    def __init__(self, root_dir, transform=None):\n",
        "        self.root_dir = root_dir\n",
        "        self.transform = transform or transforms.Compose([\n",
        "            transforms.Resize((256, 128)),\n",
        "            transforms.ToTensor(),\n",
        "            transforms.Normalize([0.5]*3, [0.5]*3)\n",
        "        ])\n",
        "        self.pid_to_paths = defaultdict(list)\n",
        "        for pid in os.listdir(root_dir):\n",
        "            pid_folder = os.path.join(root_dir, pid)\n",
        "            if os.path.isdir(pid_folder):\n",
        "                for fname in os.listdir(pid_folder):\n",
        "                    if fname.endswith('.png'):\n",
        "                        self.pid_to_paths[pid].append(os.path.join(pid_folder, fname))\n",
        "        self.pids = list(self.pid_to_paths.keys())\n",
        "\n",
        "    def sample(self, P, K):\n",
        "        selected_pids = random.sample(self.pids, min(P, len(self.pids)))\n",
        "        images, labels = [], []\n",
        "        for pid in selected_pids:\n",
        "            paths = self.pid_to_paths[pid]\n",
        "            chosen = random.choices(paths, k=K) if len(paths) < K else random.sample(paths, K)\n",
        "            for path in chosen:\n",
        "                img = Image.open(path).convert(\"RGB\")\n",
        "                img = self.transform(img)\n",
        "                images.append(img)\n",
        "                labels.append(pid)\n",
        "        return torch.stack(images), labels"
      ]
    },
    {
      "cell_type": "code",
      "execution_count": 5,
      "metadata": {
        "id": "VveOafCH44QW"
      },
      "outputs": [],
      "source": [
        "class FolderGroupedBatchTrainingDataset:\n",
        "    \"\"\"\n",
        "    Groups images by folder (person ID) for training only. Does not inherit from PyTorch Dataset\n",
        "    because it's not accessed by index but by a custom sampling method.\n",
        "    \"\"\"\n",
        "    def __init__(self, root_dir, transform=None):\n",
        "        self.transform = transform or transforms.Compose([\n",
        "            ResizePad((256, 128)),\n",
        "            transforms.ToTensor(),\n",
        "            transforms.Normalize([0.5]*3, [0.5]*3)\n",
        "        ])\n",
        "\n",
        "        self.pid_to_imgs = defaultdict(list)\n",
        "\n",
        "        for pid in os.listdir(root_dir):\n",
        "            folder = os.path.join(root_dir, pid)\n",
        "            if not os.path.isdir(folder): continue\n",
        "\n",
        "            for img_path in glob.glob(os.path.join(folder, '*.png')):\n",
        "                if os.path.exists(img_path.replace('.png', '.xml')):\n",
        "                    self.pid_to_imgs[pid].append(img_path)\n",
        "\n",
        "        self.pids = [pid for pid, imgs in self.pid_to_imgs.items() if len(imgs) >= 2]\n",
        "\n",
        "    def sample(self, P, K):\n",
        "        \"\"\"\n",
        "        Sample a batch of P identities with K images each.\n",
        "        Returns: images (tensor list), labels (list of pids)\n",
        "        \"\"\"\n",
        "        assert len(self.pids) >= P, \"Not enough unique IDs to sample.\"\n",
        "\n",
        "        batch_pids = random.sample(self.pids, P)\n",
        "        images = []\n",
        "        labels = []\n",
        "        for pid in batch_pids:\n",
        "            img_paths = random.sample(self.pid_to_imgs[pid], min(K, len(self.pid_to_imgs[pid])))\n",
        "            for path in img_paths:\n",
        "                img = Image.open(path).convert('RGB')\n",
        "                img = self.transform(img)\n",
        "                images.append(img)\n",
        "                labels.append(pid)\n",
        "        return images, labels"
      ]
    },
    {
      "cell_type": "code",
      "execution_count": 6,
      "metadata": {
        "id": "gptuvRllsnUh"
      },
      "outputs": [],
      "source": [
        "\n",
        "# Not used anymore.\n",
        "def batch_hard_triplet_loss(embeddings, labels, margin=1.0,device=torch.device('cpu')):\n",
        "    embeddings = F.normalize(embeddings, dim=1)\n",
        "    labels = torch.tensor([hash(x) for x in labels])  # hash to int\n",
        "    pdist = 1 - torch.matmul(embeddings, embeddings.T)\n",
        "    mask_pos = labels.unsqueeze(1) == labels.unsqueeze(0)\n",
        "    mask_neg = ~mask_pos\n",
        "    mask_pos = mask_pos.float().to(device)\n",
        "    mask_neg = mask_neg.float().to(device)\n",
        "\n",
        "    hardest_pos = (pdist * mask_pos.float().to(device)).max(dim=1)[0]\n",
        "    hardest_neg = (pdist + mask_pos.float().to(device) * 10).min(dim=1)[0]\n",
        "    loss = F.relu(hardest_pos - hardest_neg + margin)\n",
        "    return loss.mean()"
      ]
    },
    {
      "cell_type": "code",
      "execution_count": 7,
      "metadata": {
        "id": "KFKPRAzPwhh7"
      },
      "outputs": [],
      "source": [
        "import torch\n",
        "import torch.nn.functional as F\n",
        "\n",
        "def pairwise_distances(embeddings):\n",
        "    # Compute cosine distance matrix\n",
        "    normed = F.normalize(embeddings, p=2, dim=1)\n",
        "    sim_matrix = torch.matmul(normed, normed.T)\n",
        "    dist_matrix = 1 - sim_matrix  # cosine distance\n",
        "    return dist_matrix\n",
        "\n",
        "def combined_triplet_loss(embeddings, labels, margin=1.0, alpha=0.5, device=torch.device('cpu')):\n",
        "    \"\"\"\n",
        "    Args:\n",
        "        embeddings: Tensor [N, D]\n",
        "        labels: List[str] or Tensor of IDs (can be string)\n",
        "        margin: Triplet margin\n",
        "        alpha: Weight for hard vs mean loss. alpha=0.5 → 50% hard, 50% mean\n",
        "    \"\"\"\n",
        "    # Convert string labels to integer indices\n",
        "    if isinstance(labels, list) and isinstance(labels[0], str):\n",
        "        label_to_index = {label: idx for idx, label in enumerate(sorted(set(labels)))}\n",
        "        labels = [label_to_index[label] for label in labels]\n",
        "        labels = torch.tensor(labels, device=embeddings.device)\n",
        "    elif isinstance(labels, list):\n",
        "        labels = torch.tensor(labels, device=embeddings.device)\n",
        "    else:\n",
        "        labels = labels.to(embeddings.device)\n",
        "\n",
        "    pairwise_dist = pairwise_distances(embeddings)\n",
        "    N = embeddings.size(0)\n",
        "\n",
        "    loss_hard = 0.0\n",
        "    loss_mean = 0.0\n",
        "    valid_triplets = 0\n",
        "\n",
        "    for i in range(N):\n",
        "        anchor_label = labels[i]\n",
        "        dists = pairwise_dist[i]\n",
        "\n",
        "        is_pos = (labels == anchor_label) & (torch.arange(N, device=embeddings.device) != i)\n",
        "        is_neg = labels != anchor_label\n",
        "\n",
        "        if torch.sum(is_pos) == 0 or torch.sum(is_neg) == 0:\n",
        "            continue  # skip if no valid pairs\n",
        "\n",
        "        # Hardest positive and negative\n",
        "        hardest_pos = dists[is_pos].max()\n",
        "        hardest_neg = dists[is_neg].min()\n",
        "        hard_loss = F.relu(hardest_pos - hardest_neg + margin)\n",
        "\n",
        "        # Mean-based variant\n",
        "        mean_pos = dists[is_pos].mean()\n",
        "        mean_neg = dists[is_neg].mean()\n",
        "        mean_loss = F.relu(mean_pos - mean_neg + margin)\n",
        "\n",
        "        # Combine\n",
        "        loss = alpha * hard_loss + (1 - alpha) * mean_loss\n",
        "        loss_hard += loss\n",
        "        valid_triplets += 1\n",
        "\n",
        "    if valid_triplets == 0:\n",
        "        return torch.tensor(0.0, requires_grad=True, device=embeddings.device)\n",
        "\n",
        "    return loss_hard / valid_triplets"
      ]
    },
    {
      "cell_type": "code",
      "execution_count": 14,
      "metadata": {
        "id": "H2EbRR2VKfSU"
      },
      "outputs": [],
      "source": [
        "class YOLOv11ReID(nn.Module):\n",
        "    def __init__(self, yolo_weights='yolo11n.pt', emb_dim=128):\n",
        "        super().__init__()\n",
        "        yolo_model = YOLO(yolo_weights)\n",
        "\n",
        "\n",
        "\n",
        "        self.backbone = nn.Sequential(\n",
        "          yolo_model.model.model[0],\n",
        "          yolo_model.model.model[1],\n",
        "          yolo_model.model.model[2],\n",
        "          yolo_model.model.model[3],\n",
        "          yolo_model.model.model[4],\n",
        "          yolo_model.model.model[5],\n",
        "          yolo_model.model.model[6],\n",
        "          )\n",
        "        self.avg_pool = nn.AdaptiveAvgPool2d((1, 1))\n",
        "        self.max_pool = nn.AdaptiveMaxPool2d((1, 1))\n",
        "        self.dropout = nn.Dropout(p=0.2)\n",
        "\n",
        "        self.fc = nn.Sequential(\n",
        "            nn.Linear(self._get_feat_dim(), emb_dim, bias=False),\n",
        "            nn.BatchNorm1d(emb_dim)\n",
        "        )\n",
        "        for param in self.backbone[:4].parameters():\n",
        "          param.requires_grad = False\n",
        "\n",
        "\n",
        "    def _get_feat_dim(self):\n",
        "        x = torch.zeros((1, 3, 256, 128))\n",
        "        with torch.no_grad():\n",
        "            f = self.backbone(x)\n",
        "            avg_feat = self.avg_pool(f)\n",
        "            max_feat = self.max_pool(f)\n",
        "            feat = (avg_feat+max_feat)/2\n",
        "            return feat.flatten(1).shape[1]\n",
        "\n",
        "\n",
        "    def forward(self, x):\n",
        "        x = self.backbone(x)\n",
        "\n",
        "        avg_feat = self.avg_pool(x)\n",
        "        max_feat = self.max_pool(x)\n",
        "        f = (avg_feat + max_feat) / 2\n",
        "        f = f.flatten(1)\n",
        "        f = self.dropout(f)\n",
        "        emb = self.fc(f)\n",
        "        return nn.functional.normalize(emb, dim=1)\n"
      ]
    },
    {
      "cell_type": "code",
      "execution_count": 15,
      "metadata": {
        "id": "zMC4VUw-sKe6"
      },
      "outputs": [],
      "source": [
        "from sklearn.metrics.pairwise import cosine_similarity\n",
        "from collections import defaultdict\n",
        "import numpy as np\n",
        "import torch.nn.functional as F\n",
        "\n",
        "# Validation\n",
        "@torch.no_grad()\n",
        "def validate_similarity(model, dataset, device, P=5, K=5, inter_K=10):\n",
        "    model.eval()\n",
        "    total_intra, total_inter, count_intra, count_inter = 0.0, 0.0, 0, 0\n",
        "\n",
        "    selected_pids = random.sample(dataset.pids, min(P, len(dataset.pids)))\n",
        "    for pid in selected_pids:\n",
        "        paths = dataset.pid_to_paths[pid]\n",
        "        if len(paths) < 2:\n",
        "            continue\n",
        "        chosen = random.sample(paths, min(K, len(paths)))\n",
        "        imgs = torch.stack([dataset.transform(Image.open(p).convert(\"RGB\")) for p in chosen]).to(device)\n",
        "        embs = F.normalize(model(imgs), dim=1)\n",
        "        for i in range(len(embs)):\n",
        "            for j in range(i + 1, len(embs)):\n",
        "                total_intra += F.cosine_similarity(embs[i].unsqueeze(0), embs[j].unsqueeze(0)).item()\n",
        "                count_intra += 1\n",
        "\n",
        "        # Inter\n",
        "        inter_paths = []\n",
        "        for _ in range(inter_K):\n",
        "            other_pid = random.choice([x for x in dataset.pids if x != pid])\n",
        "            other_img = random.choice(dataset.pid_to_paths[other_pid])\n",
        "            inter_paths.append(other_img)\n",
        "        inter_imgs = torch.stack([dataset.transform(Image.open(p).convert(\"RGB\")) for p in inter_paths]).to(device)\n",
        "        inter_embs = F.normalize(model(inter_imgs), dim=1)\n",
        "        for anchor in embs:\n",
        "            for inter in inter_embs:\n",
        "                total_inter += F.cosine_similarity(anchor.unsqueeze(0), inter.unsqueeze(0)).item()\n",
        "                count_inter += 1\n",
        "\n",
        "    avg_intra = total_intra / count_intra if count_intra else 0.0\n",
        "    avg_inter = total_inter / count_inter if count_inter else 0.0\n",
        "    return avg_intra, avg_inter"
      ]
    },
    {
      "cell_type": "code",
      "execution_count": null,
      "metadata": {
        "id": "rB1iD-PHtrt-"
      },
      "outputs": [],
      "source": [
        "\n"
      ]
    },
    {
      "cell_type": "code",
      "execution_count": 16,
      "metadata": {
        "colab": {
          "base_uri": "https://localhost:8080/"
        },
        "id": "_q2uqQrR-_lL",
        "outputId": "4287288f-978c-4958-dc35-93f23689ecbd"
      },
      "outputs": [
        {
          "name": "stdout",
          "output_type": "stream",
          "text": [
            "cuda\n"
          ]
        }
      ],
      "source": [
        "from torch.nn import TripletMarginLoss\n",
        "\n",
        "device ='cuda' if torch.cuda.is_available() else 'cpu'\n",
        "print(device)\n",
        "model = YOLOv11ReID().to(device)\n",
        "optimizer = optim.Adam(model.parameters(),lr=1e-4)"
      ]
    },
    {
      "cell_type": "code",
      "execution_count": 17,
      "metadata": {},
      "outputs": [],
      "source": [
        "import os\n",
        "real_epoch = 0\n",
        "restart = False\n",
        "last_epoch = 1000\n",
        "\n",
        "if restart == True:\n",
        "    real_epoch= last_epoch\n",
        "    base_dir = os.getcwd()\n",
        "    model.load_state_dict(torch.load(os.path.join(base_dir, f\"saved_model2/ReIDPooling_{real_epoch}.pth\")))"
      ]
    },
    {
      "cell_type": "code",
      "execution_count": null,
      "metadata": {
        "colab": {
          "base_uri": "https://localhost:8080/",
          "height": 964
        },
        "id": "-R0hfyrltAQq",
        "outputId": "b07ade8c-6bb1-4d25-df1c-f0e508ac4973"
      },
      "outputs": [
        {
          "name": "stdout",
          "output_type": "stream",
          "text": [
            "[Epoch 10] Loss: 1.1296\n",
            "[Epoch 20] Loss: 1.1847\n",
            "[Epoch 30] Loss: 1.1425\n",
            "[Epoch 40] Loss: 1.1507\n",
            "[Epoch 50] Loss: 1.1255\n",
            "[Epoch 60] Loss: 1.1984\n",
            "[Epoch 70] Loss: 1.1701\n",
            "[Epoch 80] Loss: 1.1506\n",
            "[Epoch 90] Loss: 1.1340\n",
            "[Epoch 100] Loss: 1.0800\n",
            "train_intra : 0.3581767901033163, train_inter : 0.13034183556586504\n",
            "valid_intra : 0.3888949159346521, valid_inter : 0.1106650722231716\n",
            "[Epoch 110] Loss: 1.1484\n",
            "[Epoch 120] Loss: 1.1449\n",
            "[Epoch 130] Loss: 1.1518\n",
            "[Epoch 140] Loss: 1.1217\n",
            "[Epoch 150] Loss: 1.1588\n",
            "[Epoch 160] Loss: 1.1395\n",
            "[Epoch 170] Loss: 1.1762\n",
            "[Epoch 180] Loss: 1.1289\n",
            "[Epoch 190] Loss: 1.1319\n",
            "[Epoch 200] Loss: 1.1435\n",
            "train_intra : 0.3461625491082668, train_inter : 0.1540770409218967\n",
            "valid_intra : 0.3147452101111412, valid_inter : 0.15266986259445547\n",
            "[Epoch 210] Loss: 1.1267\n",
            "[Epoch 220] Loss: 1.1278\n",
            "[Epoch 230] Loss: 1.1118\n",
            "[Epoch 240] Loss: 1.1158\n",
            "[Epoch 250] Loss: 1.1055\n",
            "[Epoch 260] Loss: 1.0818\n",
            "[Epoch 270] Loss: 1.1336\n",
            "[Epoch 280] Loss: 1.1272\n",
            "[Epoch 290] Loss: 1.1471\n",
            "[Epoch 300] Loss: 1.1454\n",
            "train_intra : 0.21377086639404297, train_inter : 0.13557137477397918\n",
            "valid_intra : 0.4214153628796339, valid_inter : 0.13875085838511586\n",
            "[Epoch 310] Loss: 1.1284\n",
            "[Epoch 320] Loss: 1.1198\n",
            "[Epoch 330] Loss: 1.1518\n",
            "[Epoch 340] Loss: 1.1464\n"
          ]
        },
        {
          "ename": "KeyboardInterrupt",
          "evalue": "",
          "output_type": "error",
          "traceback": [
            "\u001b[31m---------------------------------------------------------------------------\u001b[39m",
            "\u001b[31mKeyboardInterrupt\u001b[39m                         Traceback (most recent call last)",
            "\u001b[36mCell\u001b[39m\u001b[36m \u001b[39m\u001b[32mIn[18]\u001b[39m\u001b[32m, line 18\u001b[39m\n\u001b[32m     16\u001b[39m imgs = imgs.to(device)\n\u001b[32m     17\u001b[39m embeddings = model(imgs)\n\u001b[32m---> \u001b[39m\u001b[32m18\u001b[39m loss = \u001b[43mcombined_triplet_loss\u001b[49m\u001b[43m(\u001b[49m\u001b[43membeddings\u001b[49m\u001b[43m,\u001b[49m\u001b[43m \u001b[49m\u001b[43mlabels\u001b[49m\u001b[43m,\u001b[49m\u001b[43mdevice\u001b[49m\u001b[43m=\u001b[49m\u001b[43mdevice\u001b[49m\u001b[43m)\u001b[49m\n\u001b[32m     20\u001b[39m optimizer.zero_grad()\n\u001b[32m     21\u001b[39m loss.backward()\n",
            "\u001b[36mCell\u001b[39m\u001b[36m \u001b[39m\u001b[32mIn[7]\u001b[39m\u001b[32m, line 49\u001b[39m, in \u001b[36mcombined_triplet_loss\u001b[39m\u001b[34m(embeddings, labels, margin, alpha, device)\u001b[39m\n\u001b[32m     47\u001b[39m hardest_pos = dists[is_pos].max()\n\u001b[32m     48\u001b[39m hardest_neg = dists[is_neg].min()\n\u001b[32m---> \u001b[39m\u001b[32m49\u001b[39m hard_loss = \u001b[43mF\u001b[49m\u001b[43m.\u001b[49m\u001b[43mrelu\u001b[49m\u001b[43m(\u001b[49m\u001b[43mhardest_pos\u001b[49m\u001b[43m \u001b[49m\u001b[43m-\u001b[49m\u001b[43m \u001b[49m\u001b[43mhardest_neg\u001b[49m\u001b[43m \u001b[49m\u001b[43m+\u001b[49m\u001b[43m \u001b[49m\u001b[43mmargin\u001b[49m\u001b[43m)\u001b[49m\n\u001b[32m     51\u001b[39m \u001b[38;5;66;03m# Mean-based variant\u001b[39;00m\n\u001b[32m     52\u001b[39m mean_pos = dists[is_pos].mean()\n",
            "\u001b[36mFile \u001b[39m\u001b[32mc:\\Users\\yh936\\Dropbox\\LEARN\\vision_project1\\reidentification_project\\venv\\Lib\\site-packages\\torch\\nn\\functional.py:1704\u001b[39m, in \u001b[36mrelu\u001b[39m\u001b[34m(input, inplace)\u001b[39m\n\u001b[32m   1702\u001b[39m     result = torch.relu_(\u001b[38;5;28minput\u001b[39m)\n\u001b[32m   1703\u001b[39m \u001b[38;5;28;01melse\u001b[39;00m:\n\u001b[32m-> \u001b[39m\u001b[32m1704\u001b[39m     result = \u001b[43mtorch\u001b[49m\u001b[43m.\u001b[49m\u001b[43mrelu\u001b[49m\u001b[43m(\u001b[49m\u001b[38;5;28;43minput\u001b[39;49m\u001b[43m)\u001b[49m\n\u001b[32m   1705\u001b[39m \u001b[38;5;28;01mreturn\u001b[39;00m result\n",
            "\u001b[31mKeyboardInterrupt\u001b[39m: "
          ]
        }
      ],
      "source": [
        "import csv\n",
        "\n",
        "train_dataset = FolderGroupedBatchTrainingDataset('../data/dataset1')\n",
        "val_val_dataset = FolderGroupedBatchDataset('../data/valid_dataset1')\n",
        "tr_val_dataset = FolderGroupedBatchDataset('../data/dataset1')\n",
        "\n",
        "csv_log = f\"ReID/train_logv1_{real_epoch}.csv\"\n",
        "with open(csv_log, 'w', newline='') as f:\n",
        "    writer = csv.writer(f)\n",
        "    writer.writerow([\"epoch\", \"loss\", \"train_intra\", \"train_inter\", \"val_intra\", \"val_inter\"])\n",
        "\n",
        "for epoch in range(100000):\n",
        "    model.train()\n",
        "    imgs, labels = train_dataset.sample(P=16, K=4)\n",
        "    imgs = torch.stack(imgs).to(device)\n",
        "    imgs = imgs.to(device)\n",
        "    embeddings = model(imgs)\n",
        "    loss = combined_triplet_loss(embeddings, labels,device=device)\n",
        "\n",
        "    optimizer.zero_grad()\n",
        "    loss.backward()\n",
        "    optimizer.step()\n",
        "\n",
        "    if (epoch+1) % 10==0:\n",
        "        print(f\"[Epoch {epoch+1}] Loss: {loss.item():.4f}\")\n",
        "    train_intra, train_inter = \"\",\"\"\n",
        "    val_intra, val_inter = \"\",\"\"\n",
        "\n",
        "    if (epoch + 1) % 100 == 0:\n",
        "        train_intra, train_inter = validate_similarity(model, tr_val_dataset, device)\n",
        "        val_intra, val_inter = validate_similarity(model, val_val_dataset, device)\n",
        "        torch.save(model.state_dict(), 'saved_model2/'+f\"ReIDPooling_{real_epoch+1}.pth\")\n",
        "        print(f\"train_intra : {train_intra}, train_inter : {train_inter}\")\n",
        "        print(f\"valid_intra : {val_intra}, valid_inter : {val_inter}\")\n",
        "    if (epoch+1) % 20 == 0:\n",
        "        with open(csv_log, 'a', newline='') as f:\n",
        "            writer = csv.writer(f)\n",
        "            writer.writerow([real_epoch+1, loss.item(), train_intra, train_inter, val_intra, val_inter])\n",
        "    if (epoch+1) % 1000 == 0:\n",
        "        torch.save(model.state_dict(), 'saved_model2/'+f\"ReIDPooling_{real_epoch+1}.pth\")\n",
        "    real_epoch += 1\n"
      ]
    },
    {
      "cell_type": "code",
      "execution_count": null,
      "metadata": {
        "id": "bmpxA0WZLeau"
      },
      "outputs": [],
      "source": [
        "# print(model)"
      ]
    },
    {
      "cell_type": "code",
      "execution_count": null,
      "metadata": {
        "id": "rqhFzQS9LLk4"
      },
      "outputs": [],
      "source": [
        "torch.save(model, '/content/reid_modelv2.0.pth')"
      ]
    },
    {
      "cell_type": "code",
      "execution_count": null,
      "metadata": {
        "id": "8-AtJ06YX-f3"
      },
      "outputs": [],
      "source": [
        "torch.save(model.state_dict(), 'reid_model_state_dictv2.0.pth')"
      ]
    },
    {
      "cell_type": "code",
      "execution_count": null,
      "metadata": {
        "id": "qQNS-xMR-07z"
      },
      "outputs": [],
      "source": []
    },
    {
      "cell_type": "code",
      "execution_count": null,
      "metadata": {
        "id": "j8m7LjcP-k0T"
      },
      "outputs": [],
      "source": [
        "@torch.no_grad()\n",
        "def extract_features_ids(model, dataloader, device):\n",
        "    model.eval()\n",
        "    all_features = []\n",
        "    all_ids = []\n",
        "\n",
        "    for images, ids in tqdm(dataloader, desc=\"Extracting features\"):\n",
        "        images = images.to(device)\n",
        "        emb = model(images)  # [B, 128]\n",
        "        emb = F.normalize(emb, dim=1)  # cosine normalization\n",
        "\n",
        "        all_features.append(emb.cpu())\n",
        "        all_ids.extend(ids)  # assume ids are strings or ints\n",
        "\n",
        "    features = torch.cat(all_features, dim=0)\n",
        "    return features, all_ids"
      ]
    },
    {
      "cell_type": "code",
      "execution_count": null,
      "metadata": {
        "id": "B3ZJg-SjQ2RX"
      },
      "outputs": [],
      "source": [
        "import matplotlib.pyplot as plt\n",
        "def compute_similarity_gaps(features, ids,show=False):\n",
        "    sim_matrix = cosine_similarity(features.numpy())  # [N, N]\n",
        "    N = len(ids)\n",
        "    gaps = []\n",
        "\n",
        "    for i in range(N):\n",
        "        query_id = ids[i]\n",
        "        sim_scores = sim_matrix[i]\n",
        "\n",
        "        # exclude self\n",
        "        sim_scores[i] = -np.inf\n",
        "\n",
        "        # positive scores (same ID, not self)\n",
        "        pos_mask = np.array([j != i and ids[j] == query_id for j in range(N)])\n",
        "        neg_mask = np.array([ids[j] != query_id for j in range(N)])\n",
        "\n",
        "        if not np.any(pos_mask) or not np.any(neg_mask):\n",
        "            continue  # skip if no pos/neg samples\n",
        "\n",
        "        best_pos = np.max(sim_scores[pos_mask])\n",
        "        best_neg = np.max(sim_scores[neg_mask])\n",
        "\n",
        "        gap = best_pos - best_neg\n",
        "        gaps.append(gap)\n",
        "\n",
        "    gaps = np.array(gaps)\n",
        "    print(f\"Avg similarity gap (pos - hardest neg): {np.mean(gaps):.4f}\")\n",
        "    print(f\"% queries where positive > negative: {(gaps > 0).mean()*100:.2f}%\")\n",
        "    if(show):\n",
        "        # Optional: visualize\n",
        "        plt.hist(gaps, bins=40, color='blue', edgecolor='black')\n",
        "        plt.title(\"Distribution of (best positive - hardest negative) similarity gaps\")\n",
        "        plt.xlabel(\"Similarity Gap\")\n",
        "        plt.ylabel(\"Number of queries\")\n",
        "        plt.grid(True)\n",
        "        plt.show()"
      ]
    },
    {
      "cell_type": "code",
      "execution_count": null,
      "metadata": {
        "colab": {
          "base_uri": "https://localhost:8080/",
          "height": 507
        },
        "id": "wAO0sc_hQ3Hx",
        "outputId": "9c38885a-a386-430b-eeb2-70b2fd568c96"
      },
      "outputs": [
        {
          "name": "stdout",
          "output_type": "stream",
          "text": [
            "Avg similarity gap (pos - hardest neg): 0.1173\n",
            "% queries where positive > negative: 94.56%\n"
          ]
        },
        {
          "data": {
            "image/png": "[encoded data removed]",
            "text/plain": [
              "<Figure size 640x480 with 1 Axes>"
            ]
          },
          "metadata": {},
          "output_type": "display_data"
        }
      ],
      "source": [
        "features, ids = extract_features_ids(model, val_loader, device)\n",
        "compute_similarity_gaps(features, ids, show=True)"
      ]
    },
    {
      "cell_type": "code",
      "execution_count": null,
      "metadata": {
        "id": "i312_xG-WvXS"
      },
      "outputs": [],
      "source": []
    },
    {
      "cell_type": "code",
      "execution_count": null,
      "metadata": {
        "id": "pu9GUia9W1bx"
      },
      "outputs": [],
      "source": [
        "\n"
      ]
    },
    {
      "cell_type": "code",
      "execution_count": null,
      "metadata": {
        "id": "_SxvkvKNW61C"
      },
      "outputs": [],
      "source": []
    },
    {
      "cell_type": "code",
      "execution_count": null,
      "metadata": {
        "colab": {
          "base_uri": "https://localhost:8080/"
        },
        "id": "wwWGm9FfY4Rj",
        "outputId": "c02f0355-299f-411b-f90a-9cc68933eafe"
      },
      "outputs": [
        {
          "name": "stdout",
          "output_type": "stream",
          "text": [
            "Avg similarity (same ID):     0.2792\n",
            "Avg similarity (different ID): 0.0508\n"
          ]
        }
      ],
      "source": [
        "intra, inter = compute_intra_inter_similarity(features, ids)"
      ]
    },
    {
      "cell_type": "code",
      "execution_count": null,
      "metadata": {
        "id": "O5kXDELva_Tj"
      },
      "outputs": [],
      "source": []
    }
  ],
  "metadata": {
    "accelerator": "GPU",
    "colab": {
      "gpuType": "T4",
      "provenance": []
    },
    "kernelspec": {
      "display_name": "venv",
      "language": "python",
      "name": "python3"
    },
    "language_info": {
      "codemirror_mode": {
        "name": "ipython",
        "version": 3
      },
      "file_extension": ".py",
      "mimetype": "text/x-python",
      "name": "python",
      "nbconvert_exporter": "python",
      "pygments_lexer": "ipython3",
      "version": "3.12.7"
    }
  },
  "nbformat": 4,
  "nbformat_minor": 0
}
