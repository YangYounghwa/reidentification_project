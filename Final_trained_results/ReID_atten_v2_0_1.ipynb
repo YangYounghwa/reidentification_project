{
  "cells": [
    {
      "cell_type": "code",
      "execution_count": null,
      "metadata": {
        "id": "aPqHaoSwTiyP"
      },
      "outputs": [],
      "source": []
    },
    {
      "cell_type": "code",
      "execution_count": null,
      "metadata": {
        "colab": {
          "base_uri": "https://localhost:8080/"
        },
        "id": "IOJVpeXwVoCh",
        "outputId": "307ad401-2e81-47f2-bf23-9e37ecc9e8e1"
      },
      "outputs": [
        {
          "name": "stdout",
          "output_type": "stream",
          "text": [
            "mkdir: cannot create directory ‘ReID_attenv2’: File exists\n",
            "mkdir: cannot create directory ‘/content/dataset/’: File exists\n"
          ]
        }
      ],
      "source": [
        "!mkdir ReID_attenv2\n",
        "!mkdir /content/dataset/\n",
        "!mkdir /content/dataset/train"
      ]
    },
    {
      "cell_type": "code",
      "execution_count": null,
      "metadata": {
        "id": "Fjd88YvBUgwp"
      },
      "outputs": [],
      "source": [
        "!unzip -qq train2022_1.zip -d /content/dataset/train/\n",
        "!unzip -qq train2022_2.zip -d /content/dataset/train/\n",
        "!unzip -qq train2022_3.zip -d /content/dataset/train/\n",
        "!unzip -qq train2022_4.zip -d /content/dataset/train/\n",
        "!unzip -qq train2022_5.zip -d /content/dataset/train/\n"
      ]
    },
    {
      "cell_type": "code",
      "execution_count": null,
      "metadata": {
        "colab": {
          "base_uri": "https://localhost:8080/"
        },
        "id": "O_Mq799sVYKD",
        "outputId": "5a33698a-4d1b-4eb4-dded-600dfd2ba2c7"
      },
      "outputs": [
        {
          "name": "stdout",
          "output_type": "stream",
          "text": [
            "mkdir: cannot create directory ‘/content/dataset/valid’: File exists\n"
          ]
        }
      ],
      "source": [
        "!mkdir /content/dataset/valid\n",
        "!unzip -qq valid2022_1.zip -d /content/dataset/valid/\n",
        "!unzip -qq valid2022_2.zip -d /content/dataset/valid/"
      ]
    },
    {
      "cell_type": "code",
      "execution_count": null,
      "metadata": {
        "id": "oKqLeZxvKBfw"
      },
      "outputs": [],
      "source": [
        "!unzip -qq [training]dataset1.zip -d /content/dataset\n",
        "!unzip -qq [training]dataset2.zip -d /content/dataset\n",
        "!unzip -qq [training]dataset3.zip -d /content/dataset\n",
        "!unzip -qq [training]dataset4.zip -d /content/dataset\n",
        "!unzip -qq [training]dataset5.zip -d /content/dataset"
      ]
    },
    {
      "cell_type": "code",
      "execution_count": null,
      "metadata": {
        "id": "SPpkbpGIV3K_"
      },
      "outputs": [],
      "source": [
        "!mv /content/dataset/dataset1/* /content/dataset/train/\n",
        "!mv /content/dataset/dataset2/* /content/dataset/train/\n",
        "!mv /content/dataset/dataset3/* /content/dataset/train/\n",
        "!mv /content/dataset/dataset4/* /content/dataset/train/\n",
        "!mv /content/dataset/dataset5/* /content/dataset/train/"
      ]
    },
    {
      "cell_type": "code",
      "execution_count": null,
      "metadata": {},
      "outputs": [],
      "source": [
        "!unzip -qq /content/[valid]dataset1.zip -d /content/valid\n",
        "!mv /content/valid/[valid]dataset1 /content/dataset/valid/"
      ]
    },
    {
      "cell_type": "code",
      "execution_count": null,
      "metadata": {
        "colab": {
          "base_uri": "https://localhost:8080/"
        },
        "id": "LGPxXTvdKPzI",
        "outputId": "c9066e47-b521-4236-838d-07b0f57cf20f"
      },
      "outputs": [
        {
          "name": "stdout",
          "output_type": "stream",
          "text": [
            "Creating new Ultralytics Settings v0.0.6 file ✅ \n",
            "View Ultralytics Settings with 'yolo settings' or at '/root/.config/Ultralytics/settings.json'\n",
            "Update Settings with 'yolo settings key=value', i.e. 'yolo settings runs_dir=path/to/dir'. For help see https://docs.ultralytics.com/quickstart/#ultralytics-settings.\n"
          ]
        }
      ],
      "source": [
        "import os\n",
        "import glob\n",
        "import xml.etree.ElementTree as ET\n",
        "\n",
        "\n",
        "import torch\n",
        "import torch.nn as nn\n",
        "import torch.optim as optim\n",
        "from torch.utils.data import Dataset, DataLoader\n",
        "from torchvision.ops import RoIAlign\n",
        "from torchvision import transforms\n",
        "from ultralytics import YOLO\n",
        "\n",
        "import random\n",
        "import numpy as np"
      ]
    },
    {
      "cell_type": "code",
      "execution_count": null,
      "metadata": {
        "id": "bmpxA0WZLeau"
      },
      "outputs": [],
      "source": [
        "from PIL import Image\n",
        "\n",
        "\n",
        "class ResizePad:\n",
        "    def __init__(self,size=(256,128),fill=0):\n",
        "        self.target_h, self.target_w = size\n",
        "        self.fill = fill\n",
        "    def __call__(self,img):\n",
        "        orig_w, orig_h = img.size\n",
        "        scale = min(self.target_w/orig_w, self.target_h/orig_h)\n",
        "        new_w, new_h = int(orig_w * scale),int(orig_h*scale)\n",
        "\n",
        "        img = img.resize((new_w,new_h), Image.BILINEAR)\n",
        "\n",
        "        new_img = Image.new(\"RGB\",(self.target_w,self.target_h),(self.fill,)*3)\n",
        "        paste_x = (self.target_w-new_w)//2\n",
        "        paste_y = (self.target_h-new_h)//2\n",
        "        new_img.paste(img,(paste_x,paste_y))\n",
        "\n",
        "        return new_img"
      ]
    },
    {
      "cell_type": "code",
      "execution_count": null,
      "metadata": {
        "id": "hQKfzNRVHnt6"
      },
      "outputs": [],
      "source": [
        "class FolderGroupedBatchDataset:\n",
        "    def __init__(self, root_dir, transform=None):\n",
        "        self.root_dir = root_dir\n",
        "        self.transform = transform or transforms.Compose([\n",
        "            transforms.Resize((256, 128)),\n",
        "            transforms.ToTensor(),\n",
        "            transforms.Normalize([0.5]*3, [0.5]*3)\n",
        "        ])\n",
        "        self.pid_to_paths = defaultdict(list)\n",
        "        for pid in os.listdir(root_dir):\n",
        "            pid_folder = os.path.join(root_dir, pid)\n",
        "            if os.path.isdir(pid_folder):\n",
        "                for fname in os.listdir(pid_folder):\n",
        "                    if fname.endswith('.png'):\n",
        "                        self.pid_to_paths[pid].append(os.path.join(pid_folder, fname))\n",
        "        self.pids = list(self.pid_to_paths.keys())\n",
        "\n",
        "\n",
        "    def sample(self, P, K):\n",
        "        selected_pids = random.sample(self.pids, min(P, len(self.pids)))\n",
        "        images, labels = [], []\n",
        "        for pid in selected_pids:\n",
        "            paths = self.pid_to_paths[pid]\n",
        "            chosen = random.choices(paths, k=K) if len(paths) < K else random.sample(paths, K)\n",
        "            for path in chosen:\n",
        "                img = Image.open(path).convert(\"RGB\")\n",
        "                img = self.transform(img)\n",
        "                images.append(img)\n",
        "                labels.append(pid)\n",
        "        return torch.stack(images), labels"
      ]
    },
    {
      "cell_type": "code",
      "execution_count": null,
      "metadata": {
        "id": "EY5ipiOi9ojv"
      },
      "outputs": [],
      "source": [
        "from PIL import Image, ImageDraw\n",
        "import torchvision.transforms as transforms\n",
        "import random\n",
        "\n",
        "def get_custom_transform(apply_prob=0.3):\n",
        "    def random_obstacle_or_crop(img):\n",
        "        if random.random() > apply_prob:\n",
        "            return img  # No augmentation\n",
        "\n",
        "        mode = random.choice([\"obstacle\", \"bottom_crop\"])\n",
        "\n",
        "        if mode == \"obstacle\":\n",
        "            return add_obstacle(img)\n",
        "        elif mode == \"bottom_crop\":\n",
        "            return remove_bottom_half(img)\n",
        "        return img\n",
        "\n",
        "    def add_obstacle(img):\n",
        "        draw = ImageDraw.Draw(img)\n",
        "        w, h = img.size\n",
        "        x1 = random.randint(0, w // 2)\n",
        "        y1 = random.randint(0, h // 2)\n",
        "        x2 = x1 + random.randint(w // 8, w // 4)\n",
        "        y2 = y1 + random.randint(h // 8, h // 4)\n",
        "        draw.rectangle([x1, y1, x2, y2], fill=(0, 0, 0))\n",
        "        return img\n",
        "\n",
        "    def remove_bottom_half(img):\n",
        "        draw = ImageDraw.Draw(img)\n",
        "        w, h = img.size\n",
        "        draw.rectangle([0, h//2, w, h], fill=(0, 0, 0))\n",
        "        return img\n",
        "\n",
        "    # Final composed transform\n",
        "    return transforms.Compose([\n",
        "        transforms.Lambda(random_obstacle_or_crop),\n",
        "        transforms.Resize((256, 128)),\n",
        "        transforms.ToTensor(),\n",
        "        transforms.Normalize([0.5]*3, [0.5]*3)\n",
        "    ])"
      ]
    },
    {
      "cell_type": "code",
      "execution_count": null,
      "metadata": {
        "id": "mzeoWpuyHn1V"
      },
      "outputs": [],
      "source": [
        "class FolderGroupedBatchTrainingDataset:\n",
        "    \"\"\"\n",
        "    Groups images by folder (person ID) for training only. Does not inherit from PyTorch Dataset\n",
        "    because it's not accessed by index but by a custom sampling method.\n",
        "    \"\"\"\n",
        "    def __init__(self, root_dir, transform=None):\n",
        "        self.transform = transform or transforms.Compose([\n",
        "            ResizePad((256, 128)),\n",
        "            transforms.ToTensor(),\n",
        "            transforms.Normalize([0.5]*3, [0.5]*3)\n",
        "        ])\n",
        "\n",
        "        self.pid_to_imgs = defaultdict(list)\n",
        "\n",
        "        for pid in os.listdir(root_dir):\n",
        "            folder = os.path.join(root_dir, pid)\n",
        "            if not os.path.isdir(folder): continue\n",
        "\n",
        "            for img_path in glob.glob(os.path.join(folder, '*.png')):\n",
        "                self.pid_to_imgs[pid].append(img_path)\n",
        "\n",
        "\n",
        "        self.pids = [pid for pid, imgs in self.pid_to_imgs.items() if len(imgs) >= 2]\n",
        "\n",
        "    def sample(self, P, K):\n",
        "        \"\"\"\n",
        "        Sample a batch of P identities with K images each.\n",
        "        Returns: images (tensor list), labels (list of pids)\n",
        "        \"\"\"\n",
        "        assert len(self.pids) >= P, \"Not enough unique IDs to sample.\"\n",
        "\n",
        "        batch_pids = random.sample(self.pids, P)\n",
        "        images = []\n",
        "        labels = []\n",
        "        for pid in batch_pids:\n",
        "            img_paths = random.sample(self.pid_to_imgs[pid], min(K, len(self.pid_to_imgs[pid])))\n",
        "            for path in img_paths:\n",
        "                img = Image.open(path).convert('RGB')\n",
        "                img = self.transform(img)\n",
        "                images.append(img)\n",
        "                labels.append(pid)\n",
        "        return images, labels"
      ]
    },
    {
      "cell_type": "code",
      "execution_count": null,
      "metadata": {
        "id": "sxTT43meHn5o"
      },
      "outputs": [],
      "source": [
        "# Not used anymore.\n",
        "def batch_hard_triplet_loss(embeddings, labels, margin=1.0,device=torch.device('cpu')):\n",
        "    embeddings = F.normalize(embeddings, dim=1)\n",
        "    labels = torch.tensor([hash(x) for x in labels])  # hash to int\n",
        "    pdist = 1 - torch.matmul(embeddings, embeddings.T)\n",
        "    mask_pos = labels.unsqueeze(1) == labels.unsqueeze(0)\n",
        "    mask_neg = ~mask_pos\n",
        "    mask_pos = mask_pos.float().to(device)\n",
        "    mask_neg = mask_neg.float().to(device)\n",
        "\n",
        "    hardest_pos = (pdist * mask_pos.float().to(device)).max(dim=1)[0]\n",
        "    hardest_neg = (pdist + mask_pos.float().to(device) * 10).min(dim=1)[0]\n",
        "    loss = F.relu(hardest_pos - hardest_neg + margin)\n",
        "    return loss.mean()"
      ]
    },
    {
      "cell_type": "code",
      "execution_count": null,
      "metadata": {
        "id": "XDhIVVo6Hn8I"
      },
      "outputs": [],
      "source": [
        "import torch\n",
        "import torch.nn.functional as F\n",
        "\n",
        "def pairwise_distances(embeddings):\n",
        "    # Compute cosine distance matrix\n",
        "    normed = F.normalize(embeddings, p=2, dim=1)\n",
        "    sim_matrix = torch.matmul(normed, normed.T)\n",
        "    dist_matrix = 1 - sim_matrix  # cosine distance\n",
        "    return dist_matrix\n",
        "\n",
        "def combined_triplet_loss(embeddings, labels, margin=1.0, alpha=0.5, device=torch.device('cpu')):\n",
        "    \"\"\"\n",
        "    Args:\n",
        "        embeddings: Tensor [N, D]\n",
        "        labels: List[str] or Tensor of IDs (can be string)\n",
        "        margin: Triplet margin\n",
        "        alpha: Weight for hard vs mean loss. alpha=0.5 → 50% hard, 50% mean\n",
        "    \"\"\"\n",
        "    # Convert string labels to integer indices\n",
        "    if isinstance(labels, list) and isinstance(labels[0], str):\n",
        "        label_to_index = {label: idx for idx, label in enumerate(sorted(set(labels)))}\n",
        "        labels = [label_to_index[label] for label in labels]\n",
        "        labels = torch.tensor(labels, device=embeddings.device)\n",
        "    elif isinstance(labels, list):\n",
        "        labels = torch.tensor(labels, device=embeddings.device)\n",
        "    else:\n",
        "        labels = labels.to(embeddings.device)\n",
        "\n",
        "    pairwise_dist = pairwise_distances(embeddings)\n",
        "    N = embeddings.size(0)\n",
        "\n",
        "    loss_hard = 0.0\n",
        "    loss_mean = 0.0\n",
        "    valid_triplets = 0\n",
        "\n",
        "    for i in range(N):\n",
        "        anchor_label = labels[i]\n",
        "        dists = pairwise_dist[i]\n",
        "\n",
        "        is_pos = (labels == anchor_label) & (torch.arange(N, device=embeddings.device) != i)\n",
        "        is_neg = labels != anchor_label\n",
        "\n",
        "        if torch.sum(is_pos) == 0 or torch.sum(is_neg) == 0:\n",
        "            continue  # skip if no valid pairs\n",
        "\n",
        "        # Hardest positive and negative\n",
        "        hardest_pos = dists[is_pos].max()\n",
        "        hardest_neg = dists[is_neg].min()\n",
        "        hard_loss = F.relu(hardest_pos - hardest_neg + margin)\n",
        "\n",
        "        # Mean-based variant\n",
        "        mean_pos = dists[is_pos].mean()\n",
        "        mean_neg = dists[is_neg].mean()\n",
        "        mean_loss = F.relu(mean_pos - mean_neg + margin)\n",
        "\n",
        "        # Combine\n",
        "        loss = alpha * hard_loss + (1 - alpha) * mean_loss\n",
        "        loss_hard += loss\n",
        "        valid_triplets += 1\n",
        "\n",
        "    if valid_triplets == 0:\n",
        "        return torch.tensor(0.0, requires_grad=True, device=embeddings.device)\n",
        "\n",
        "    return loss_hard / valid_triplets"
      ]
    },
    {
      "cell_type": "code",
      "execution_count": null,
      "metadata": {
        "id": "PS73obD0Hn-p"
      },
      "outputs": [],
      "source": [
        "import torch\n",
        "import torch.nn as nn\n",
        "\n",
        "class VisionAttentionLayer(nn.Module):\n",
        "    \"\"\"\n",
        "    A standard Multi-Head Self-Attention layer for vision tasks.\n",
        "    This layer is a core component of Vision Transformers (ViT).\n",
        "\n",
        "    Args:\n",
        "        dim (int): The embedding dimension of the input tokens.\n",
        "        heads (int): The number of attention heads.\n",
        "        dim_head (int, optional): The dimension of each attention head.\n",
        "                                  Defaults to dim // heads.\n",
        "        dropout (float, optional): Dropout rate. Defaults to 0.0.\n",
        "    \"\"\"\n",
        "    def __init__(self, dim: int, heads: int = 8, dim_head: int = 64, dropout: float = 0.0):\n",
        "        super().__init__()\n",
        "        inner_dim = dim_head * heads\n",
        "        project_out = not (heads == 1 and dim_head == dim)\n",
        "\n",
        "        self.heads = heads\n",
        "        # The scale factor is a crucial detail for stabilizing training.\n",
        "        # It's the inverse square root of the head dimension.\n",
        "        self.scale = dim_head ** -0.5\n",
        "\n",
        "        self.to_qkv = nn.Linear(dim, inner_dim * 3, bias=False)\n",
        "        self.softmax = nn.Softmax(dim=-1)\n",
        "        self.dropout = nn.Dropout(dropout)\n",
        "\n",
        "        self.to_out = nn.Sequential(\n",
        "            nn.Linear(inner_dim, dim),\n",
        "            nn.Dropout(dropout)\n",
        "        ) if project_out else nn.Identity()\n",
        "\n",
        "    def forward(self, x: torch.Tensor) -> torch.Tensor:\n",
        "        # x input shape: (batch_size, num_patches, dim)\n",
        "\n",
        "        # 1. Project input to Q, K, V\n",
        "        # Shape: (batch_size, num_patches, inner_dim * 3)\n",
        "        qkv = self.to_qkv(x).chunk(3, dim=-1)\n",
        "\n",
        "        # 2. Reshape Q, K, V for multi-head attention\n",
        "        # Change shape to: (batch_size, heads, num_patches, dim_head)\n",
        "        q, k, v = map(\n",
        "            lambda t: t.reshape(t.shape[0], t.shape[1], self.heads, -1).permute(0, 2, 1, 3),\n",
        "            qkv\n",
        "        )\n",
        "\n",
        "        # 3. Calculate scaled dot-product attention scores\n",
        "        # (q @ k.transpose) -> (b, h, n, d) @ (b, h, d, n) -> (b, h, n, n)\n",
        "        dots = torch.matmul(q, k.transpose(-1, -2)) * self.scale\n",
        "\n",
        "        # 4. Apply softmax to get attention weights\n",
        "        attn_weights = self.softmax(dots)\n",
        "        attn_weights = self.dropout(attn_weights)\n",
        "\n",
        "        # 5. Apply attention weights to V (values)\n",
        "        # (attn_weights @ v) -> (b, h, n, n) @ (b, h, n, d) -> (b, h, n, d)\n",
        "        attended_values = torch.matmul(attn_weights, v)\n",
        "\n",
        "        # 6. Concatenate heads and project output\n",
        "        # First, reshape to (b, n, h*d) where h*d = inner_dim\n",
        "        out = attended_values.permute(0, 2, 1, 3).reshape(x.shape[0], x.shape[1], -1)\n",
        "\n",
        "        # Finally, project back to the original embedding dimension `dim`\n",
        "        return self.to_out(out)"
      ]
    },
    {
      "cell_type": "code",
      "execution_count": null,
      "metadata": {
        "id": "6qjzUKZuJulu"
      },
      "outputs": [],
      "source": [
        "class ReIDAtten_v2(nn.Module):\n",
        "    '''\n",
        "    ReID Atten v2\n",
        "    Reduced backbone of YOLOv11\n",
        "    Uses Attention Layer for head.\n",
        "    157,024 parameters.\n",
        "    '''\n",
        "    def __init__(self, yolo_weights='yolo11n.pt', emb_dim=128):\n",
        "        super().__init__()\n",
        "\n",
        "        yolo_model = YOLO(yolo_weights)\n",
        "        self.backbone = nn.Sequential(*yolo_model.model.model[:5])\n",
        "\n",
        "\n",
        "        self.backbone_output_dim = self._get_feat_dim()\n",
        "        # Caveat : dim = dim_head = heads\n",
        "        self.attn = VisionAttentionLayer(\n",
        "            dim=self.backbone_output_dim,\n",
        "            heads=4,\n",
        "            dim_head=self.backbone_output_dim // 4)\n",
        "        self.embed = nn.Linear(self.backbone_output_dim, emb_dim)\n",
        "\n",
        "    def _get_feat_dim(self):\n",
        "        x = torch.zeros((1, 3, 256, 128))\n",
        "        with torch.no_grad():\n",
        "            x = self.backbone(x)\n",
        "            return x.shape[1]  # fix here\n",
        "    def forward(self, x):\n",
        "        x = self.backbone(x)          # (B, C, H, W)\n",
        "\n",
        "\n",
        "        flat = x.flatten(2).transpose(1, 2)  # (B, H*W, C)\n",
        "        # print(\"input to atten:\", flat.shape)\n",
        "        att = self.attn(flat)              # (B, H*W, C)\n",
        "        # print(att.shape)\n",
        "        att = att.mean(dim=1)\n",
        "        # print(att.shape)            # (B, C)\n",
        "        embed = self.embed(att)             # (B, 128)\n",
        "        return nn.functional.normalize(embed, dim=1)"
      ]
    },
    {
      "cell_type": "code",
      "execution_count": null,
      "metadata": {
        "id": "RXIrvbn353Jg"
      },
      "outputs": [],
      "source": []
    },
    {
      "cell_type": "code",
      "execution_count": null,
      "metadata": {
        "id": "SrWi7zmQHoA8"
      },
      "outputs": [],
      "source": [
        "from sklearn.metrics.pairwise import cosine_similarity\n",
        "from collections import defaultdict\n",
        "import numpy as np\n",
        "import torch.nn.functional as F\n",
        "\n",
        "# Validation\n",
        "@torch.no_grad()\n",
        "def validate_similarity(model, dataset, device, P=5, K=5, inter_K=16):\n",
        "    model.eval()\n",
        "    total_intra, total_inter, count_intra, count_inter = 0.0, 0.0, 0, 0\n",
        "\n",
        "    selected_pids = random.sample(dataset.pids, min(P, len(dataset.pids)))\n",
        "    for pid in selected_pids:\n",
        "        paths = dataset.pid_to_paths[pid]\n",
        "        if len(paths) < 2:\n",
        "            continue\n",
        "        chosen = random.sample(paths, min(K, len(paths)))\n",
        "        imgs = torch.stack([dataset.transform(Image.open(p).convert(\"RGB\")) for p in chosen]).to(device)\n",
        "        embs = F.normalize(model(imgs), dim=1)\n",
        "        for i in range(len(embs)):\n",
        "            for j in range(i + 1, len(embs)):\n",
        "                total_intra += F.cosine_similarity(embs[i].unsqueeze(0), embs[j].unsqueeze(0)).item()\n",
        "                count_intra += 1\n",
        "\n",
        "        # Inter\n",
        "        inter_paths = []\n",
        "        for _ in range(inter_K):\n",
        "            other_pid = random.choice([x for x in dataset.pids if x != pid])\n",
        "            other_img = random.choice(dataset.pid_to_paths[other_pid])\n",
        "            inter_paths.append(other_img)\n",
        "        inter_imgs = torch.stack([dataset.transform(Image.open(p).convert(\"RGB\")) for p in inter_paths]).to(device)\n",
        "        inter_embs = F.normalize(model(inter_imgs), dim=1)\n",
        "        for anchor in embs:\n",
        "            for inter in inter_embs:\n",
        "                total_inter += F.cosine_similarity(anchor.unsqueeze(0), inter.unsqueeze(0)).item()\n",
        "                count_inter += 1\n",
        "\n",
        "    avg_intra = total_intra / count_intra if count_intra else 0.0\n",
        "    avg_inter = total_inter / count_inter if count_inter else 0.0\n",
        "    return avg_intra, avg_inter"
      ]
    },
    {
      "cell_type": "code",
      "execution_count": null,
      "metadata": {
        "id": "tSjzvVIlJPPj"
      },
      "outputs": [],
      "source": []
    },
    {
      "cell_type": "code",
      "execution_count": null,
      "metadata": {
        "id": "lSKnUz91JPHs"
      },
      "outputs": [],
      "source": [
        "import os\n",
        "# real_epoch=300\n",
        "# base_dir = os.getcwd()\n",
        "# model.load_state_dict(torch.load(os.path.join(base_dir, f\"saved_model2/ReIDPooling_{real_epoch}.pth\")))"
      ]
    },
    {
      "cell_type": "code",
      "execution_count": null,
      "metadata": {
        "id": "vcZ1XER9LQd2"
      },
      "outputs": [],
      "source": [
        "\n",
        "\n",
        "\n"
      ]
    },
    {
      "cell_type": "code",
      "execution_count": null,
      "metadata": {
        "id": "Csv-KOtWMC_f"
      },
      "outputs": [],
      "source": []
    },
    {
      "cell_type": "code",
      "execution_count": null,
      "metadata": {
        "id": "HftOk1g9Mpb_"
      },
      "outputs": [],
      "source": [
        "# model.train()\n",
        "# imgs, labels = train_dataset.sample(P=16, K=4)\n",
        "# imgs = torch.stack(imgs).to(device)\n",
        "# imgs = imgs.to(device)\n",
        "# embeddings = model(imgs)\n",
        "# print(embeddings.shape)\n",
        "# print(len(labels))"
      ]
    },
    {
      "cell_type": "code",
      "execution_count": null,
      "metadata": {
        "id": "IqR4JXNbNYzK"
      },
      "outputs": [],
      "source": [
        "# model = YOLOv11ReID().to(device)\n",
        "# pytorch_total_params = sum(p.numel() for p in model.parameters())\n",
        "# print(pytorch_total_params)\n"
      ]
    },
    {
      "cell_type": "code",
      "execution_count": null,
      "metadata": {
        "colab": {
          "base_uri": "https://localhost:8080/"
        },
        "id": "0T2xxYQSMwrb",
        "outputId": "daa9ae37-23c7-4394-95a6-0a39d01b6d60"
      },
      "outputs": [
        {
          "name": "stdout",
          "output_type": "stream",
          "text": [
            "157024\n",
            "torch.Size([2, 128])\n"
          ]
        }
      ],
      "source": [
        "model = ReIDAtten_v2()\n",
        "pytorch_total_params = sum(p.numel() for p in model.parameters())\n",
        "print(pytorch_total_params)\n",
        "\n",
        "dummy = torch.randn(2,3,256,128)\n",
        "out = model(dummy)  # shape: (2,128,16,8)\n",
        "print(out.shape)"
      ]
    },
    {
      "cell_type": "code",
      "execution_count": null,
      "metadata": {
        "colab": {
          "base_uri": "https://localhost:8080/"
        },
        "id": "jB7wRa3ALRoj",
        "outputId": "475ba951-74c4-4d14-e6a9-991d222bea50"
      },
      "outputs": [
        {
          "name": "stdout",
          "output_type": "stream",
          "text": [
            "cuda\n"
          ]
        },
        {
          "data": {
            "text/plain": [
              "<All keys matched successfully>"
            ]
          },
          "execution_count": 80,
          "metadata": {},
          "output_type": "execute_result"
        }
      ],
      "source": [
        "from torch.nn import TripletMarginLoss\n",
        "\n",
        "device ='cuda' if torch.cuda.is_available() else 'cpu'\n",
        "print(device)\n",
        "model = ReIDAtten_v2().to(device)\n",
        "optimizer = optim.Adam(model.parameters(),lr=1e-4)\n",
        "real_epoch=0\n",
        "model.load_state_dict(torch.load(\"/content/ReIDAttenv2_29999.pth\"))"
      ]
    },
    {
      "cell_type": "code",
      "execution_count": null,
      "metadata": {
        "colab": {
          "base_uri": "https://localhost:8080/",
          "height": 1000
        },
        "id": "naFiaIPRJO-Y",
        "outputId": "c5714684-dc86-4f2c-e7a8-ff5d6245fd4d"
      },
      "outputs": [
        {
          "name": "stdout",
          "output_type": "stream",
          "text": [
            "[Epoch 3600] Loss: 0.7826\n",
            "train_intra : 0.6737804600596428, train_inter : -0.08082941194996238\n",
            "valid_intra : 0.7630690729618073, valid_inter : -0.011710610662121326\n",
            "[Epoch 3620] Loss: 0.7584\n",
            "train_intra : 0.7866354495286941, train_inter : 0.06454949941951782\n",
            "valid_intra : 0.7977882462739945, valid_inter : 0.007241774557624012\n",
            "[Epoch 3640] Loss: 0.8268\n",
            "train_intra : 0.664362509548664, train_inter : 0.008298321149777622\n",
            "valid_intra : 0.8068140208721161, valid_inter : -0.016444778421428056\n",
            "[Epoch 3660] Loss: 0.8282\n",
            "train_intra : 0.6660103227943182, train_inter : 0.05236610403517261\n",
            "valid_intra : 0.7575389701128006, valid_inter : 0.06248947187326848\n",
            "[Epoch 3680] Loss: 0.7320\n",
            "train_intra : 0.7734733176231384, train_inter : 0.020720789078623056\n",
            "valid_intra : 0.8112734293937683, valid_inter : 0.014781445246189833\n",
            "[Epoch 3700] Loss: 0.7265\n",
            "train_intra : 0.6904469680786133, train_inter : 0.0494121680711396\n",
            "valid_intra : 0.7649863308668137, valid_inter : 0.020217890026979147\n",
            "[Epoch 3720] Loss: 0.7801\n",
            "train_intra : 0.7700428372621536, train_inter : 0.04831553823547438\n",
            "valid_intra : 0.7866576516628265, valid_inter : 0.06780095155350864\n",
            "[Epoch 3740] Loss: 0.8701\n",
            "train_intra : 0.6772615544497966, train_inter : 0.0483741502976045\n",
            "valid_intra : 0.7329976314306259, valid_inter : 0.04616662967018783\n",
            "[Epoch 3760] Loss: 0.7822\n",
            "train_intra : 0.7420441967248916, train_inter : -0.04256596862338483\n",
            "valid_intra : 0.7572294217348099, valid_inter : -0.03820592948119156\n",
            "[Epoch 3780] Loss: 0.7680\n",
            "train_intra : 0.7635792481899262, train_inter : 0.07772236794233323\n",
            "valid_intra : 0.7660155940055847, valid_inter : 0.035454345098696646\n",
            "[Epoch 3800] Loss: 0.7915\n",
            "train_intra : 0.5849875746294856, train_inter : -0.05299375565722585\n",
            "valid_intra : 0.6809016917645931, valid_inter : 0.07080706197302788\n",
            "[Epoch 3820] Loss: 0.7815\n",
            "train_intra : 0.7087945657968521, train_inter : 0.06496180908521637\n",
            "valid_intra : 0.7746519374847413, valid_inter : 0.056373692974448206\n",
            "[Epoch 3840] Loss: 0.8279\n",
            "train_intra : 0.7468420474231243, train_inter : 0.032716907812282446\n",
            "valid_intra : 0.8286319345235824, valid_inter : -0.0046052528923610225\n",
            "[Epoch 3860] Loss: 0.8093\n",
            "train_intra : 0.7354061886668205, train_inter : -0.05686196207534522\n",
            "valid_intra : 0.6915277794003487, valid_inter : 0.049740781725849954\n",
            "[Epoch 3880] Loss: 0.7945\n",
            "train_intra : 0.7221245020627975, train_inter : 0.0657510022027418\n",
            "valid_intra : 0.7475987613201142, valid_inter : -0.0022208515787497164\n",
            "[Epoch 3900] Loss: 0.7881\n",
            "train_intra : 0.701425493657589, train_inter : 0.033704365589655935\n",
            "valid_intra : 0.7707993155717849, valid_inter : -0.00691850598435849\n",
            "[Epoch 3920] Loss: 0.7981\n",
            "train_intra : 0.7651012802124023, train_inter : 0.04522644530050456\n",
            "valid_intra : 0.7002645637094974, valid_inter : -0.008473403360694647\n",
            "[Epoch 3940] Loss: 0.7842\n",
            "train_intra : 0.6903502863645553, train_inter : 0.03729220666456968\n",
            "valid_intra : 0.7162153393030166, valid_inter : 0.07163384425453842\n",
            "[Epoch 3960] Loss: 0.8202\n",
            "train_intra : 0.7743815402686596, train_inter : 0.0491888306196779\n",
            "valid_intra : 0.7188094973564148, valid_inter : -0.03518386360025033\n",
            "[Epoch 3980] Loss: 0.8714\n",
            "train_intra : 0.71793526917696, train_inter : 0.08078828160185367\n",
            "valid_intra : 0.8085398596525192, valid_inter : 0.05146005931310356\n",
            "[Epoch 4000] Loss: 0.8453\n",
            "train_intra : 0.6973806196451187, train_inter : -0.0146270637284033\n",
            "valid_intra : 0.8456706237792969, valid_inter : -0.0192462624842301\n",
            "[Epoch 4020] Loss: 0.7463\n",
            "train_intra : 0.8614866840839386, train_inter : 0.008033314584754408\n",
            "valid_intra : 0.7816983893513679, valid_inter : 0.04561970267444849\n",
            "[Epoch 4040] Loss: 0.8159\n",
            "train_intra : 0.7887199115753174, train_inter : 0.07496075548697263\n",
            "valid_intra : 0.8127261161804199, valid_inter : -0.013351083253510296\n",
            "[Epoch 4060] Loss: 0.8948\n",
            "train_intra : 0.838045796751976, train_inter : 0.016804691522847862\n",
            "valid_intra : 0.7105648779496551, valid_inter : 0.14663923619315028\n",
            "[Epoch 4080] Loss: 0.7598\n",
            "train_intra : 0.5780749921500683, train_inter : -0.027986387982964517\n",
            "valid_intra : 0.7303305527567864, valid_inter : -0.06105850971536711\n",
            "[Epoch 4100] Loss: 0.7668\n",
            "train_intra : 0.6796746155619622, train_inter : 0.011317923495080323\n",
            "valid_intra : 0.6848011860251426, valid_inter : 0.03432204912416637\n",
            "[Epoch 4120] Loss: 0.7654\n",
            "train_intra : 0.6434731823205948, train_inter : -0.004785663387738168\n",
            "valid_intra : 0.735374459028244, valid_inter : 0.01824640723410994\n",
            "[Epoch 4140] Loss: 0.7189\n",
            "train_intra : 0.7005875903367996, train_inter : -0.0012081500887870789\n",
            "valid_intra : 0.80019109249115, valid_inter : 0.011500179562717676\n",
            "[Epoch 4160] Loss: 0.7849\n",
            "train_intra : 0.7665483230352401, train_inter : 0.01631964368512854\n",
            "valid_intra : 0.7974338841438293, valid_inter : -0.04020879459334537\n",
            "[Epoch 4180] Loss: 0.7596\n",
            "train_intra : 0.7790388798713684, train_inter : 0.08822915622033178\n",
            "valid_intra : 0.7741854584217072, valid_inter : 0.09142664549406618\n",
            "[Epoch 4200] Loss: 0.7667\n",
            "train_intra : 0.6795285809040069, train_inter : -0.028271067584864796\n",
            "valid_intra : 0.6865004388988019, valid_inter : 0.09659770912257955\n",
            "[Epoch 4220] Loss: 0.7896\n",
            "train_intra : 0.6917120963335037, train_inter : 0.06463867814280093\n",
            "valid_intra : 0.8412823565304279, valid_inter : 0.011614013361395337\n",
            "[Epoch 4240] Loss: 0.8602\n",
            "train_intra : 0.7101996678113938, train_inter : 0.030176100018434227\n",
            "valid_intra : 0.8837639462947845, valid_inter : 0.0178822680702433\n",
            "[Epoch 4260] Loss: 0.7425\n",
            "train_intra : 0.762102004289627, train_inter : 0.10523856534389779\n",
            "valid_intra : 0.7617998564243317, valid_inter : 0.037470298423431816\n",
            "[Epoch 4280] Loss: 0.8775\n",
            "train_intra : 0.7829136264324188, train_inter : -0.0014773941226303578\n",
            "valid_intra : 0.8178636699914932, valid_inter : 0.0786905124085024\n",
            "[Epoch 4300] Loss: 0.8310\n",
            "train_intra : 0.7800918161869049, train_inter : 0.10635359446518124\n",
            "valid_intra : 0.7815596944093705, valid_inter : 0.07907159243011846\n",
            "[Epoch 4320] Loss: 0.7802\n",
            "train_intra : 0.817277718782425, train_inter : 0.09295363589189946\n",
            "valid_intra : 0.778526303768158, valid_inter : 0.04619766567600891\n",
            "[Epoch 4340] Loss: 0.8183\n",
            "train_intra : 0.6872648322582244, train_inter : 0.06112624464556575\n",
            "valid_intra : 0.6971659007668495, valid_inter : 0.02593085128813982\n",
            "[Epoch 4360] Loss: 0.7310\n",
            "train_intra : 0.7533984434604645, train_inter : 0.04641630375757813\n",
            "valid_intra : 0.7513323146104812, valid_inter : 0.013615357504459098\n",
            "[Epoch 4380] Loss: 0.7333\n",
            "train_intra : 0.7394054985046387, train_inter : 0.06968277379870415\n",
            "valid_intra : 0.7826805049180985, valid_inter : 0.07494819620624185\n",
            "[Epoch 4400] Loss: 0.7012\n",
            "train_intra : 0.7202075207233429, train_inter : 0.03987634003162384\n",
            "valid_intra : 0.6950314757227898, valid_inter : -0.04633523610420525\n",
            "[Epoch 4420] Loss: 0.8375\n",
            "train_intra : 0.8101133000850678, train_inter : 0.029456813554279506\n",
            "valid_intra : 0.7278451079130173, valid_inter : -0.0018781205359846354\n",
            "[Epoch 4440] Loss: 0.7510\n",
            "train_intra : 0.7284399807453156, train_inter : 0.0503540741559118\n",
            "valid_intra : 0.7118538993597031, valid_inter : 0.04413847478106618\n",
            "[Epoch 4460] Loss: 0.8127\n",
            "train_intra : 0.8060632997751236, train_inter : 0.01137096491176635\n",
            "valid_intra : 0.8457309627532958, valid_inter : -0.03522545577958226\n",
            "[Epoch 4480] Loss: 0.8465\n",
            "train_intra : 0.7244700419902802, train_inter : 0.02011593404226005\n",
            "valid_intra : 0.8576693749427795, valid_inter : -0.1007607524562627\n",
            "[Epoch 4500] Loss: 0.7103\n",
            "train_intra : 0.7447651970386505, train_inter : 0.0709108470310457\n",
            "valid_intra : 0.8223330736160278, valid_inter : 0.05038916129153222\n",
            "[Epoch 4520] Loss: 0.8000\n",
            "train_intra : 0.7009047918021679, train_inter : 0.05998065904714167\n",
            "valid_intra : 0.8822923254966736, valid_inter : 0.01574441314442083\n",
            "[Epoch 4540] Loss: 0.7351\n",
            "train_intra : 0.6999628785252571, train_inter : 0.006525677295867354\n",
            "valid_intra : 0.7132536166906357, valid_inter : 0.01005395783809945\n",
            "[Epoch 4560] Loss: 0.7981\n",
            "train_intra : 0.7920743960142136, train_inter : 0.04839354027761147\n",
            "valid_intra : 0.714179866462946, valid_inter : 0.05621472924482077\n",
            "[Epoch 4580] Loss: 0.7589\n",
            "train_intra : 0.7753740787506104, train_inter : 0.08052252889610827\n",
            "valid_intra : 0.7950677168369293, valid_inter : -0.026512131764320657\n",
            "[Epoch 4600] Loss: 0.7673\n",
            "train_intra : 0.6778512816131115, train_inter : 0.11125870110932738\n",
            "valid_intra : 0.7915806460380554, valid_inter : 0.07514864678494632\n",
            "[Epoch 4620] Loss: 0.8911\n",
            "train_intra : 0.7799445647001266, train_inter : 0.02424145193072036\n",
            "valid_intra : 0.6865256696939468, valid_inter : -0.0010028271074406802\n",
            "[Epoch 4640] Loss: 0.8134\n",
            "train_intra : 0.8236954349279404, train_inter : -0.016341458579991013\n",
            "valid_intra : 0.5383620545268059, valid_inter : -0.0675567512633279\n",
            "[Epoch 4660] Loss: 0.8312\n",
            "train_intra : 0.6593555963039398, train_inter : -0.02805455311667174\n",
            "valid_intra : 0.7621841961145401, valid_inter : 0.05419548756210133\n",
            "[Epoch 4680] Loss: 0.8020\n",
            "train_intra : 0.7981853449344635, train_inter : 0.22790178892202675\n",
            "valid_intra : 0.808627781867981, valid_inter : 0.11295324132777751\n",
            "[Epoch 4700] Loss: 0.7821\n",
            "train_intra : 0.7599039596319198, train_inter : 0.1025697962846607\n",
            "valid_intra : 0.867391049861908, valid_inter : -0.014256461109034717\n",
            "[Epoch 4720] Loss: 0.9004\n",
            "train_intra : 0.7916407692432403, train_inter : 0.06373487088829279\n",
            "valid_intra : 0.7902017185091972, valid_inter : 0.025542664416134356\n",
            "[Epoch 4740] Loss: 0.7964\n",
            "train_intra : 0.7176451218128205, train_inter : -0.05378536915406585\n",
            "valid_intra : 0.725417058467865, valid_inter : 0.035625501645263284\n",
            "[Epoch 4760] Loss: 0.7510\n",
            "train_intra : 0.593033078983426, train_inter : -0.002042141833808273\n",
            "valid_intra : 0.8347061657905579, valid_inter : -0.011385208712890744\n",
            "[Epoch 4780] Loss: 0.7903\n",
            "train_intra : 0.7179603046178817, train_inter : -0.007885729887057095\n",
            "valid_intra : 0.7226190111041069, valid_inter : 0.029917730016168206\n",
            "[Epoch 4800] Loss: 0.7466\n",
            "train_intra : 0.741957682967186, train_inter : -0.018925921611953528\n",
            "valid_intra : 0.7830736303329467, valid_inter : 0.08322291171643884\n",
            "[Epoch 4820] Loss: 0.7935\n",
            "train_intra : 0.7178431034088135, train_inter : 0.08037223180290312\n",
            "valid_intra : 0.7567580485343933, valid_inter : -0.012569576939567924\n",
            "[Epoch 4840] Loss: 0.8655\n",
            "train_intra : 0.7331878983974457, train_inter : -0.003187321936711669\n",
            "valid_intra : 0.6490541708469391, valid_inter : -0.05697293621022254\n",
            "[Epoch 4860] Loss: 0.7902\n",
            "train_intra : 0.7862533557415009, train_inter : -0.031924956373404714\n",
            "valid_intra : 0.6780818142741919, valid_inter : 0.06029474469367415\n",
            "[Epoch 4880] Loss: 0.7516\n",
            "train_intra : 0.780065791606903, train_inter : 0.11408906921744347\n",
            "valid_intra : 0.8149569010734559, valid_inter : -0.007052635308355093\n",
            "[Epoch 4900] Loss: 0.7618\n",
            "train_intra : 0.6886445331573486, train_inter : 0.007961964430287481\n",
            "valid_intra : 0.774366803765297, valid_inter : 0.026874308413825928\n",
            "[Epoch 4920] Loss: 0.8244\n",
            "train_intra : 0.7508446151018142, train_inter : 0.04672010486712679\n",
            "valid_intra : 0.6741792052984238, valid_inter : -0.015933266053907574\n",
            "[Epoch 4940] Loss: 0.8462\n",
            "train_intra : 0.7298714572191238, train_inter : -0.018941861013881862\n",
            "valid_intra : 0.7945405399799347, valid_inter : 0.08388475781306624\n",
            "[Epoch 4960] Loss: 0.7727\n",
            "train_intra : 0.7332249835133553, train_inter : 0.0654767319187522\n",
            "valid_intra : 0.8370622718334197, valid_inter : 0.055615724849049\n",
            "[Epoch 4980] Loss: 0.8398\n",
            "train_intra : 0.6755883331596851, train_inter : -0.012967109205201268\n",
            "valid_intra : 0.7988326245546341, valid_inter : 0.05715071477694437\n",
            "[Epoch 5000] Loss: 0.8031\n",
            "train_intra : 0.7257886961102485, train_inter : -0.02594841522164643\n",
            "valid_intra : 0.7786355888843537, valid_inter : -0.019141952232457696\n",
            "[Epoch 5020] Loss: 0.8498\n",
            "train_intra : 0.7602354018390178, train_inter : 0.047581841603387146\n",
            "valid_intra : 0.7587787467241287, valid_inter : 0.010133104478009046\n",
            "[Epoch 5040] Loss: 0.8342\n",
            "train_intra : 0.733481308221817, train_inter : 0.03719563376856968\n",
            "valid_intra : 0.8134690999984742, valid_inter : -0.0376591518917121\n",
            "[Epoch 5060] Loss: 0.8628\n",
            "train_intra : 0.636837824806571, train_inter : -0.03839187549892813\n",
            "valid_intra : 0.7177094074338675, valid_inter : 0.0034718896355479954\n",
            "[Epoch 5080] Loss: 0.7146\n",
            "train_intra : 0.7884536814689637, train_inter : 0.049681165679357944\n",
            "valid_intra : 0.7342282366752625, valid_inter : 0.08317329502897337\n",
            "[Epoch 5100] Loss: 0.7874\n",
            "train_intra : 0.6651113058626652, train_inter : -0.01025210113148205\n",
            "valid_intra : 0.7427281296253204, valid_inter : 0.08990490929223598\n",
            "[Epoch 5120] Loss: 0.8598\n",
            "train_intra : 0.7229405844211578, train_inter : 0.16673498926102184\n",
            "valid_intra : 0.745048422664404, valid_inter : 0.04614805820165202\n",
            "[Epoch 5140] Loss: 0.7861\n",
            "train_intra : 0.7972027564048767, train_inter : -0.04583339526085183\n",
            "valid_intra : 0.7935646069049835, valid_inter : 0.035548183277715\n",
            "[Epoch 5160] Loss: 0.8660\n",
            "train_intra : 0.6100967271625996, train_inter : 0.1013285530207213\n",
            "valid_intra : 0.7415365086495876, valid_inter : 0.028835914523806423\n",
            "[Epoch 5180] Loss: 0.7844\n",
            "train_intra : 0.7805472512543201, train_inter : 0.060064774255733935\n",
            "valid_intra : 0.550598488599062, valid_inter : -0.016323211239650845\n",
            "[Epoch 5200] Loss: 0.8282\n",
            "train_intra : 0.760854484140873, train_inter : 0.12173530478961765\n",
            "valid_intra : 0.7816960352659226, valid_inter : 0.033751934375613926\n",
            "[Epoch 5220] Loss: 0.8039\n",
            "train_intra : 0.7234354209899903, train_inter : 0.03085772566962987\n",
            "valid_intra : 0.6583418717980385, valid_inter : 0.05893260278273374\n",
            "[Epoch 5240] Loss: 0.7689\n",
            "train_intra : 0.6745934587717056, train_inter : 0.1198136327881366\n",
            "valid_intra : 0.7945616793632507, valid_inter : 0.08957628791220486\n",
            "[Epoch 5260] Loss: 0.7031\n",
            "train_intra : 0.6818082716315985, train_inter : 0.060509328951593486\n",
            "valid_intra : 0.838505157828331, valid_inter : -0.005333766737021506\n",
            "[Epoch 5280] Loss: 0.7919\n",
            "train_intra : 0.8436777597665787, train_inter : -0.009646132942289115\n",
            "valid_intra : 0.7834889829158783, valid_inter : 0.003686503495555371\n",
            "[Epoch 5300] Loss: 0.7426\n",
            "train_intra : 0.803656969666481, train_inter : 0.021612081748899073\n",
            "valid_intra : 0.806478790640831, valid_inter : 0.010617557833902537\n",
            "[Epoch 5320] Loss: 0.8772\n",
            "train_intra : 0.7563315838575363, train_inter : 0.12906256587710233\n",
            "valid_intra : 0.7510229796171188, valid_inter : 0.1626681907242164\n",
            "[Epoch 5340] Loss: 0.7872\n",
            "train_intra : 0.7509417408704757, train_inter : 0.016679703323170543\n",
            "valid_intra : 0.7113954386115074, valid_inter : -0.055876335904467854\n",
            "[Epoch 5360] Loss: 0.7802\n",
            "train_intra : 0.7203697472810745, train_inter : -0.038381771389395\n",
            "valid_intra : 0.7988855339586735, valid_inter : -0.025546903964132072\n",
            "[Epoch 5380] Loss: 0.8522\n",
            "train_intra : 0.6759184511005878, train_inter : 0.05499764164211229\n",
            "valid_intra : 0.7672909277677536, valid_inter : 0.050757703320123256\n",
            "[Epoch 5400] Loss: 0.7343\n",
            "train_intra : 0.5618870221078396, train_inter : 0.028880501477979124\n",
            "valid_intra : 0.7285488539934158, valid_inter : -0.04776855891104788\n",
            "[Epoch 5420] Loss: 0.7297\n",
            "train_intra : 0.7098395776748657, train_inter : -0.03821676740422845\n",
            "valid_intra : 0.739089911878109, valid_inter : 0.04921428904403001\n",
            "[Epoch 5440] Loss: 0.7819\n",
            "train_intra : 0.8183192908763885, train_inter : 0.05069595532258973\n",
            "valid_intra : 0.8451628875732422, valid_inter : 0.030325598837807773\n",
            "[Epoch 5460] Loss: 0.7664\n",
            "train_intra : 0.7720722943544388, train_inter : 0.13737510393140837\n",
            "valid_intra : 0.7559169179201126, valid_inter : 0.056968994142953304\n",
            "[Epoch 5480] Loss: 0.8380\n",
            "train_intra : 0.7715223687887192, train_inter : 0.05844107940909453\n",
            "valid_intra : 0.7399133992195129, valid_inter : 0.0050820457516238095\n",
            "[Epoch 5500] Loss: 0.8169\n",
            "train_intra : 0.7345816439390183, train_inter : 0.015127608759794384\n",
            "valid_intra : 0.8690987730026245, valid_inter : 0.03854885609354824\n",
            "[Epoch 5520] Loss: 0.7375\n",
            "train_intra : 0.8073683786392212, train_inter : 0.040518922687042505\n",
            "valid_intra : 0.7276655262708664, valid_inter : 0.02419497676892206\n",
            "[Epoch 5540] Loss: 0.7280\n",
            "train_intra : 0.7122123637795448, train_inter : -0.027231918855104596\n",
            "valid_intra : 0.8927420485019684, valid_inter : 0.039318941340316084\n",
            "[Epoch 5560] Loss: 0.7183\n",
            "train_intra : 0.7860291385650635, train_inter : 0.06702156740706414\n",
            "valid_intra : 0.7992572867870331, valid_inter : 0.04819794912124053\n",
            "[Epoch 5580] Loss: 0.7471\n",
            "train_intra : 0.6900153984129429, train_inter : 0.051920149626675995\n",
            "valid_intra : 0.8631938660144806, valid_inter : 0.043487385322805494\n",
            "[Epoch 5600] Loss: 0.7929\n",
            "train_intra : 0.6832489365339279, train_inter : 0.07147558888187631\n",
            "valid_intra : 0.7279451882839203, valid_inter : 0.01595445234561339\n",
            "[Epoch 5620] Loss: 0.7375\n",
            "train_intra : 0.8186490213871003, train_inter : 0.041122635975480076\n",
            "valid_intra : 0.7905753332376481, valid_inter : 0.0902342460420914\n",
            "[Epoch 5640] Loss: 0.7845\n",
            "train_intra : 0.7001253497600556, train_inter : 0.04988857784308493\n",
            "valid_intra : 0.7884648223221302, valid_inter : -0.0699421693268232\n",
            "[Epoch 5660] Loss: 0.8009\n",
            "train_intra : 0.7136228570342064, train_inter : 0.07130964679876342\n",
            "valid_intra : 0.719687477350235, valid_inter : 0.0928001210372895\n",
            "[Epoch 5680] Loss: 0.8410\n",
            "train_intra : 0.7377478331327438, train_inter : 0.06699418432079256\n",
            "valid_intra : 0.8170938038825989, valid_inter : 0.11969411784783006\n",
            "[Epoch 5700] Loss: 0.7767\n",
            "train_intra : 0.7843699884414673, train_inter : 0.07800539619522169\n",
            "valid_intra : 0.6995054578781128, valid_inter : 0.07902044275775552\n",
            "[Epoch 5720] Loss: 0.8424\n",
            "train_intra : 0.773938150703907, train_inter : -0.08479571187403052\n",
            "valid_intra : 0.7096369338035583, valid_inter : 0.014804084217175842\n",
            "[Epoch 5740] Loss: 0.7955\n",
            "train_intra : 0.7692138430476189, train_inter : 0.03627030097413808\n",
            "valid_intra : 0.7349845477938652, valid_inter : 0.040898968474939464\n",
            "[Epoch 5760] Loss: 0.8454\n",
            "train_intra : 0.7915619122982025, train_inter : 0.1114240261982195\n",
            "valid_intra : 0.7812425369024276, valid_inter : 0.024824374415911735\n",
            "[Epoch 5780] Loss: 0.7373\n",
            "train_intra : 0.6776959293335676, train_inter : 0.014892784086987377\n",
            "valid_intra : 0.7955622243881225, valid_inter : 0.02057124544866383\n",
            "[Epoch 5800] Loss: 0.7780\n",
            "train_intra : 0.714562799334526, train_inter : 0.004541305173188448\n",
            "valid_intra : 0.8068885433673859, valid_inter : 0.0874340361636132\n",
            "[Epoch 5820] Loss: 0.8904\n",
            "train_intra : 0.6077322036027908, train_inter : 0.0070063506555743515\n",
            "valid_intra : 0.6735756516456604, valid_inter : -0.008670290673617274\n",
            "[Epoch 5840] Loss: 0.7778\n",
            "train_intra : 0.7040998400002718, train_inter : 0.03131275134161115\n",
            "valid_intra : 0.7446978080272675, valid_inter : 0.06471782193519175\n",
            "[Epoch 5860] Loss: 0.8352\n",
            "train_intra : 0.8136823517084122, train_inter : -0.005645513732451946\n",
            "valid_intra : 0.7914385676383973, valid_inter : 0.017512034513056277\n",
            "[Epoch 5880] Loss: 0.8474\n",
            "train_intra : 0.7575995576381683, train_inter : 0.004656013324856758\n",
            "valid_intra : 0.8318664979934692, valid_inter : -0.03056690883124247\n",
            "[Epoch 5900] Loss: 0.8120\n",
            "train_intra : 0.7715102154016494, train_inter : 0.018989382460713387\n",
            "valid_intra : 0.7764672790467739, valid_inter : 0.002738234461285174\n",
            "[Epoch 5920] Loss: 0.8143\n",
            "train_intra : 0.754736333489418, train_inter : -0.07771613370627165\n",
            "valid_intra : 0.7142925083637237, valid_inter : 0.1415390074951574\n",
            "[Epoch 5940] Loss: 0.7262\n",
            "train_intra : 0.7055607071518898, train_inter : 0.09030746466713026\n",
            "valid_intra : 0.6771827930212021, valid_inter : 0.04428389163920656\n",
            "[Epoch 5960] Loss: 0.8297\n",
            "train_intra : 0.6705923914909363, train_inter : 0.04945637764176354\n",
            "valid_intra : 0.748478279709816, valid_inter : 0.05269593258621171\n",
            "[Epoch 5980] Loss: 0.8011\n",
            "train_intra : 0.7963281434774399, train_inter : 0.05300024325959384\n",
            "valid_intra : 0.8146010613441468, valid_inter : 0.06692257770337165\n",
            "[Epoch 6000] Loss: 0.8349\n",
            "train_intra : 0.6311836466193199, train_inter : -0.04022635121596977\n",
            "valid_intra : 0.7755382204055786, valid_inter : -0.040978047809330745\n",
            "[Epoch 6020] Loss: 0.9011\n",
            "train_intra : 0.7692864036560059, train_inter : 0.0787630910309963\n",
            "valid_intra : 0.7636266827583313, valid_inter : 0.05588596339104697\n",
            "[Epoch 6040] Loss: 0.7385\n",
            "train_intra : 0.7745842283964157, train_inter : -0.06052862534066662\n",
            "valid_intra : 0.8096671414375305, valid_inter : 0.0859751858911477\n",
            "[Epoch 6060] Loss: 0.7698\n",
            "train_intra : 0.7343461239337921, train_inter : 0.029889708175323902\n",
            "valid_intra : 0.8323983752727508, valid_inter : 0.05071256228722632\n",
            "[Epoch 6080] Loss: 0.7249\n",
            "train_intra : 0.6990223014354706, train_inter : 0.0683025801833719\n",
            "valid_intra : 0.6957939118146896, valid_inter : 0.01198961665155366\n",
            "[Epoch 6100] Loss: 0.7740\n",
            "train_intra : 0.8203385525941849, train_inter : 0.06565474055241793\n",
            "valid_intra : 0.7082548958063125, valid_inter : -0.034637507216539236\n",
            "[Epoch 6120] Loss: 0.8468\n",
            "train_intra : 0.8112624096870422, train_inter : 0.04322590035386384\n",
            "valid_intra : 0.7510150353610515, valid_inter : 0.08456479510758072\n",
            "[Epoch 6140] Loss: 0.8073\n",
            "train_intra : 0.7494904530048371, train_inter : -0.1128822773322463\n",
            "valid_intra : 0.6865275633335114, valid_inter : 0.05240230896975845\n",
            "[Epoch 6160] Loss: 0.7432\n",
            "train_intra : 0.7295244252681732, train_inter : 0.07306034153793008\n",
            "valid_intra : 0.8284780251979827, valid_inter : 0.0136289948457852\n",
            "[Epoch 6180] Loss: 0.7458\n",
            "train_intra : 0.7719449599087238, train_inter : 0.0766210235026665\n",
            "valid_intra : 0.6977504473924637, valid_inter : -0.03912903611198999\n",
            "[Epoch 6200] Loss: 0.7043\n",
            "train_intra : 0.7060425186157226, train_inter : 0.026087394370697438\n",
            "valid_intra : 0.769503059387207, valid_inter : 0.04645000176271424\n",
            "[Epoch 6220] Loss: 0.8055\n",
            "train_intra : 0.7264141507074237, train_inter : 0.006284676468931138\n",
            "valid_intra : 0.8056040221452713, valid_inter : -0.08142065717140212\n",
            "[Epoch 6240] Loss: 0.7341\n",
            "train_intra : 0.8381842923164368, train_inter : -0.04861367569537833\n",
            "valid_intra : 0.8482299256324768, valid_inter : 0.01947720693424344\n",
            "[Epoch 6260] Loss: 0.7183\n",
            "train_intra : 0.6770245085656643, train_inter : -0.036329183138441294\n",
            "valid_intra : 0.752938694357872, valid_inter : -0.009847822189331055\n",
            "[Epoch 6280] Loss: 0.8428\n",
            "train_intra : 0.8638378202915191, train_inter : -0.030548015714157373\n",
            "valid_intra : 0.7655986136198044, valid_inter : 0.05025607404997572\n",
            "[Epoch 6300] Loss: 0.7857\n",
            "train_intra : 0.662834019958973, train_inter : 0.004628153145313263\n",
            "valid_intra : 0.6179297241568565, valid_inter : 0.019120514425449073\n",
            "[Epoch 6320] Loss: 0.7777\n",
            "train_intra : 0.7808404785394668, train_inter : -0.05068011886440218\n",
            "valid_intra : 0.8044363343715668, valid_inter : -0.04711717338999733\n",
            "[Epoch 6340] Loss: 0.8244\n",
            "train_intra : 0.7630837488174439, train_inter : 0.06876654098508879\n",
            "valid_intra : 0.7427652080357074, valid_inter : -0.03703396632801741\n",
            "[Epoch 6360] Loss: 0.8198\n",
            "train_intra : 0.7326300114393234, train_inter : -0.031079983215313405\n",
            "valid_intra : 0.6691209548711776, valid_inter : 0.03546388030983508\n",
            "[Epoch 6380] Loss: 0.7998\n",
            "train_intra : 0.756725606918335, train_inter : 0.005113869321066886\n",
            "valid_intra : 0.5951000103354454, valid_inter : -0.0066980747086927295\n",
            "[Epoch 6400] Loss: 0.7723\n",
            "train_intra : 0.7443543666601181, train_inter : 0.04757948838174343\n",
            "valid_intra : 0.7792159581184387, valid_inter : 0.0521211902028881\n",
            "[Epoch 6420] Loss: 0.8066\n",
            "train_intra : 0.779374760389328, train_inter : -0.010091553127858787\n",
            "valid_intra : 0.7177346479892731, valid_inter : 0.0657080986443907\n",
            "[Epoch 6440] Loss: 0.8490\n",
            "train_intra : 0.7123170608282089, train_inter : -0.006784690776839852\n",
            "valid_intra : 0.8282502943277359, valid_inter : -0.03519574609119445\n",
            "[Epoch 6460] Loss: 0.7049\n",
            "train_intra : 0.6786432808637619, train_inter : 0.05523569067474455\n",
            "valid_intra : 0.7414950996637344, valid_inter : 0.07980635540559888\n",
            "[Epoch 6480] Loss: 0.7130\n",
            "train_intra : 0.7318486177921295, train_inter : 0.04061529239523225\n",
            "valid_intra : 0.8066309630870819, valid_inter : -0.049361716136336324\n",
            "[Epoch 6500] Loss: 0.8073\n",
            "train_intra : 0.7409192085266113, train_inter : -0.042844170797616245\n",
            "valid_intra : 0.7274499478936195, valid_inter : -0.020971357161179184\n",
            "[Epoch 6520] Loss: 0.7395\n",
            "train_intra : 0.8133007329702377, train_inter : 0.049045108787249776\n",
            "valid_intra : 0.7583907285332679, valid_inter : -0.020170202706940473\n",
            "[Epoch 6540] Loss: 0.7025\n",
            "train_intra : 0.6583737164735795, train_inter : 0.07225274797994644\n",
            "valid_intra : 0.8440004318952561, valid_inter : -0.014152513244189322\n",
            "[Epoch 6560] Loss: 0.8725\n",
            "train_intra : 0.6353865799307823, train_inter : 0.05738695725332946\n",
            "valid_intra : 0.8278007662296295, valid_inter : 0.0731846514553763\n",
            "[Epoch 6580] Loss: 0.7794\n",
            "train_intra : 0.7154136747121811, train_inter : -0.04563731230562553\n",
            "valid_intra : 0.789072262942791, valid_inter : 0.03666009678505361\n",
            "[Epoch 6600] Loss: 0.7434\n",
            "train_intra : 0.7163501608371735, train_inter : 0.07114249050850048\n",
            "valid_intra : 0.724544484615326, valid_inter : 0.06158765270607546\n",
            "[Epoch 6620] Loss: 0.7673\n",
            "train_intra : 0.638993544280529, train_inter : 0.05520609655417502\n",
            "valid_intra : 0.7941941080987454, valid_inter : 0.08741966197500005\n",
            "[Epoch 6640] Loss: 0.8183\n",
            "train_intra : 0.7083612813800574, train_inter : 0.1017512658983469\n",
            "valid_intra : 0.7561149851977825, valid_inter : 0.05483142722863704\n",
            "[Epoch 6660] Loss: 0.7724\n",
            "train_intra : 0.7333021628856659, train_inter : 0.05102639213670045\n",
            "valid_intra : 0.6529065608978272, valid_inter : 0.04932519048452377\n",
            "[Epoch 6680] Loss: 0.8467\n",
            "train_intra : 0.7725727880001068, train_inter : 0.07486724806483835\n",
            "valid_intra : 0.7819090777635574, valid_inter : 0.12041826668661088\n",
            "[Epoch 6700] Loss: 0.8331\n",
            "train_intra : 0.8321719616651535, train_inter : -0.04542610759381205\n",
            "valid_intra : 0.797477759718895, valid_inter : 0.09568286221008748\n",
            "[Epoch 6720] Loss: 0.7875\n",
            "train_intra : 0.7432403916120529, train_inter : -0.0388475376740098\n",
            "valid_intra : 0.7261107796430588, valid_inter : 0.024773496775887905\n",
            "[Epoch 6740] Loss: 0.7688\n",
            "train_intra : 0.6963956892490387, train_inter : 0.06091420108801685\n",
            "valid_intra : 0.7325148606300353, valid_inter : 0.018846505247056486\n",
            "[Epoch 6760] Loss: 0.9022\n",
            "train_intra : 0.8145636785030365, train_inter : -0.11046282863244414\n",
            "valid_intra : 0.7626909881830215, valid_inter : 0.04074107176158577\n",
            "[Epoch 6780] Loss: 0.7514\n",
            "train_intra : 0.7569290861487389, train_inter : 0.019287709235213696\n",
            "valid_intra : 0.7596062105894089, valid_inter : -0.03419587950920686\n",
            "[Epoch 6800] Loss: 0.7963\n",
            "train_intra : 0.6934649163484573, train_inter : 0.009633619603700936\n",
            "valid_intra : 0.6929824379086494, valid_inter : 0.04551947290310636\n",
            "[Epoch 6820] Loss: 0.8031\n",
            "train_intra : 0.865324181318283, train_inter : -0.0020393554703332486\n",
            "valid_intra : 0.7326358838379383, valid_inter : 0.006282216683030128\n",
            "[Epoch 6840] Loss: 0.7566\n",
            "train_intra : 0.8170728123188019, train_inter : 0.09963037229143083\n",
            "valid_intra : 0.6622012790106236, valid_inter : 0.07400080516235903\n",
            "[Epoch 6860] Loss: 0.7305\n",
            "train_intra : 0.827568131685257, train_inter : 0.1102107548713684\n",
            "valid_intra : 0.7632189524173737, valid_inter : 0.049638858919497576\n",
            "[Epoch 6880] Loss: 0.7548\n",
            "train_intra : 0.7269866436719894, train_inter : 0.1198546379758045\n",
            "valid_intra : 0.7707392531633377, valid_inter : 0.07589166237972676\n"
          ]
        },
        {
          "ename": "KeyboardInterrupt",
          "evalue": "",
          "output_type": "error",
          "traceback": [
            "\u001b[0;31m---------------------------------------------------------------------------\u001b[0m",
            "\u001b[0;31mKeyboardInterrupt\u001b[0m                         Traceback (most recent call last)",
            "\u001b[0;32m/tmp/ipython-input-82-644304304.py\u001b[0m in \u001b[0;36m<cell line: 0>\u001b[0;34m()\u001b[0m\n\u001b[1;32m     16\u001b[0m \u001b[0;32mfor\u001b[0m \u001b[0mepoch\u001b[0m \u001b[0;32min\u001b[0m \u001b[0mrange\u001b[0m\u001b[0;34m(\u001b[0m\u001b[0;36m50000\u001b[0m\u001b[0;34m)\u001b[0m\u001b[0;34m:\u001b[0m\u001b[0;34m\u001b[0m\u001b[0;34m\u001b[0m\u001b[0m\n\u001b[1;32m     17\u001b[0m     \u001b[0mmodel\u001b[0m\u001b[0;34m.\u001b[0m\u001b[0mtrain\u001b[0m\u001b[0;34m(\u001b[0m\u001b[0;34m)\u001b[0m\u001b[0;34m\u001b[0m\u001b[0;34m\u001b[0m\u001b[0m\n\u001b[0;32m---> 18\u001b[0;31m     \u001b[0mimgs\u001b[0m\u001b[0;34m,\u001b[0m \u001b[0mlabels\u001b[0m \u001b[0;34m=\u001b[0m \u001b[0mtrain_dataset\u001b[0m\u001b[0;34m.\u001b[0m\u001b[0msample\u001b[0m\u001b[0;34m(\u001b[0m\u001b[0mP\u001b[0m\u001b[0;34m=\u001b[0m\u001b[0;36m16\u001b[0m\u001b[0;34m,\u001b[0m \u001b[0mK\u001b[0m\u001b[0;34m=\u001b[0m\u001b[0;36m16\u001b[0m\u001b[0;34m)\u001b[0m\u001b[0;34m\u001b[0m\u001b[0;34m\u001b[0m\u001b[0m\n\u001b[0m\u001b[1;32m     19\u001b[0m     \u001b[0mimgs\u001b[0m \u001b[0;34m=\u001b[0m \u001b[0mtorch\u001b[0m\u001b[0;34m.\u001b[0m\u001b[0mstack\u001b[0m\u001b[0;34m(\u001b[0m\u001b[0mimgs\u001b[0m\u001b[0;34m)\u001b[0m\u001b[0;34m.\u001b[0m\u001b[0mto\u001b[0m\u001b[0;34m(\u001b[0m\u001b[0mdevice\u001b[0m\u001b[0;34m)\u001b[0m\u001b[0;34m\u001b[0m\u001b[0;34m\u001b[0m\u001b[0m\n\u001b[1;32m     20\u001b[0m     \u001b[0mimgs\u001b[0m \u001b[0;34m=\u001b[0m \u001b[0mimgs\u001b[0m\u001b[0;34m.\u001b[0m\u001b[0mto\u001b[0m\u001b[0;34m(\u001b[0m\u001b[0mdevice\u001b[0m\u001b[0;34m)\u001b[0m\u001b[0;34m\u001b[0m\u001b[0;34m\u001b[0m\u001b[0m\n",
            "\u001b[0;32m/tmp/ipython-input-68-1536616373.py\u001b[0m in \u001b[0;36msample\u001b[0;34m(self, P, K)\u001b[0m\n\u001b[1;32m     37\u001b[0m             \u001b[0;32mfor\u001b[0m \u001b[0mpath\u001b[0m \u001b[0;32min\u001b[0m \u001b[0mimg_paths\u001b[0m\u001b[0;34m:\u001b[0m\u001b[0;34m\u001b[0m\u001b[0;34m\u001b[0m\u001b[0m\n\u001b[1;32m     38\u001b[0m                 \u001b[0mimg\u001b[0m \u001b[0;34m=\u001b[0m \u001b[0mImage\u001b[0m\u001b[0;34m.\u001b[0m\u001b[0mopen\u001b[0m\u001b[0;34m(\u001b[0m\u001b[0mpath\u001b[0m\u001b[0;34m)\u001b[0m\u001b[0;34m.\u001b[0m\u001b[0mconvert\u001b[0m\u001b[0;34m(\u001b[0m\u001b[0;34m'RGB'\u001b[0m\u001b[0;34m)\u001b[0m\u001b[0;34m\u001b[0m\u001b[0;34m\u001b[0m\u001b[0m\n\u001b[0;32m---> 39\u001b[0;31m                 \u001b[0mimg\u001b[0m \u001b[0;34m=\u001b[0m \u001b[0mself\u001b[0m\u001b[0;34m.\u001b[0m\u001b[0mtransform\u001b[0m\u001b[0;34m(\u001b[0m\u001b[0mimg\u001b[0m\u001b[0;34m)\u001b[0m\u001b[0;34m\u001b[0m\u001b[0;34m\u001b[0m\u001b[0m\n\u001b[0m\u001b[1;32m     40\u001b[0m                 \u001b[0mimages\u001b[0m\u001b[0;34m.\u001b[0m\u001b[0mappend\u001b[0m\u001b[0;34m(\u001b[0m\u001b[0mimg\u001b[0m\u001b[0;34m)\u001b[0m\u001b[0;34m\u001b[0m\u001b[0;34m\u001b[0m\u001b[0m\n\u001b[1;32m     41\u001b[0m                 \u001b[0mlabels\u001b[0m\u001b[0;34m.\u001b[0m\u001b[0mappend\u001b[0m\u001b[0;34m(\u001b[0m\u001b[0mpid\u001b[0m\u001b[0;34m)\u001b[0m\u001b[0;34m\u001b[0m\u001b[0;34m\u001b[0m\u001b[0m\n",
            "\u001b[0;32m/usr/local/lib/python3.11/dist-packages/torchvision/transforms/transforms.py\u001b[0m in \u001b[0;36m__call__\u001b[0;34m(self, img)\u001b[0m\n\u001b[1;32m     93\u001b[0m     \u001b[0;32mdef\u001b[0m \u001b[0m__call__\u001b[0m\u001b[0;34m(\u001b[0m\u001b[0mself\u001b[0m\u001b[0;34m,\u001b[0m \u001b[0mimg\u001b[0m\u001b[0;34m)\u001b[0m\u001b[0;34m:\u001b[0m\u001b[0;34m\u001b[0m\u001b[0;34m\u001b[0m\u001b[0m\n\u001b[1;32m     94\u001b[0m         \u001b[0;32mfor\u001b[0m \u001b[0mt\u001b[0m \u001b[0;32min\u001b[0m \u001b[0mself\u001b[0m\u001b[0;34m.\u001b[0m\u001b[0mtransforms\u001b[0m\u001b[0;34m:\u001b[0m\u001b[0;34m\u001b[0m\u001b[0;34m\u001b[0m\u001b[0m\n\u001b[0;32m---> 95\u001b[0;31m             \u001b[0mimg\u001b[0m \u001b[0;34m=\u001b[0m \u001b[0mt\u001b[0m\u001b[0;34m(\u001b[0m\u001b[0mimg\u001b[0m\u001b[0;34m)\u001b[0m\u001b[0;34m\u001b[0m\u001b[0;34m\u001b[0m\u001b[0m\n\u001b[0m\u001b[1;32m     96\u001b[0m         \u001b[0;32mreturn\u001b[0m \u001b[0mimg\u001b[0m\u001b[0;34m\u001b[0m\u001b[0;34m\u001b[0m\u001b[0m\n\u001b[1;32m     97\u001b[0m \u001b[0;34m\u001b[0m\u001b[0m\n",
            "\u001b[0;32m/usr/local/lib/python3.11/dist-packages/torch/nn/modules/module.py\u001b[0m in \u001b[0;36m_wrapped_call_impl\u001b[0;34m(self, *args, **kwargs)\u001b[0m\n\u001b[1;32m   1737\u001b[0m             \u001b[0;32mreturn\u001b[0m \u001b[0mself\u001b[0m\u001b[0;34m.\u001b[0m\u001b[0m_compiled_call_impl\u001b[0m\u001b[0;34m(\u001b[0m\u001b[0;34m*\u001b[0m\u001b[0margs\u001b[0m\u001b[0;34m,\u001b[0m \u001b[0;34m**\u001b[0m\u001b[0mkwargs\u001b[0m\u001b[0;34m)\u001b[0m  \u001b[0;31m# type: ignore[misc]\u001b[0m\u001b[0;34m\u001b[0m\u001b[0;34m\u001b[0m\u001b[0m\n\u001b[1;32m   1738\u001b[0m         \u001b[0;32melse\u001b[0m\u001b[0;34m:\u001b[0m\u001b[0;34m\u001b[0m\u001b[0;34m\u001b[0m\u001b[0m\n\u001b[0;32m-> 1739\u001b[0;31m             \u001b[0;32mreturn\u001b[0m \u001b[0mself\u001b[0m\u001b[0;34m.\u001b[0m\u001b[0m_call_impl\u001b[0m\u001b[0;34m(\u001b[0m\u001b[0;34m*\u001b[0m\u001b[0margs\u001b[0m\u001b[0;34m,\u001b[0m \u001b[0;34m**\u001b[0m\u001b[0mkwargs\u001b[0m\u001b[0;34m)\u001b[0m\u001b[0;34m\u001b[0m\u001b[0;34m\u001b[0m\u001b[0m\n\u001b[0m\u001b[1;32m   1740\u001b[0m \u001b[0;34m\u001b[0m\u001b[0m\n\u001b[1;32m   1741\u001b[0m     \u001b[0;31m# torchrec tests the code consistency with the following code\u001b[0m\u001b[0;34m\u001b[0m\u001b[0;34m\u001b[0m\u001b[0m\n",
            "\u001b[0;32m/usr/local/lib/python3.11/dist-packages/torch/nn/modules/module.py\u001b[0m in \u001b[0;36m_call_impl\u001b[0;34m(self, *args, **kwargs)\u001b[0m\n\u001b[1;32m   1748\u001b[0m                 \u001b[0;32mor\u001b[0m \u001b[0m_global_backward_pre_hooks\u001b[0m \u001b[0;32mor\u001b[0m \u001b[0m_global_backward_hooks\u001b[0m\u001b[0;34m\u001b[0m\u001b[0;34m\u001b[0m\u001b[0m\n\u001b[1;32m   1749\u001b[0m                 or _global_forward_hooks or _global_forward_pre_hooks):\n\u001b[0;32m-> 1750\u001b[0;31m             \u001b[0;32mreturn\u001b[0m \u001b[0mforward_call\u001b[0m\u001b[0;34m(\u001b[0m\u001b[0;34m*\u001b[0m\u001b[0margs\u001b[0m\u001b[0;34m,\u001b[0m \u001b[0;34m**\u001b[0m\u001b[0mkwargs\u001b[0m\u001b[0;34m)\u001b[0m\u001b[0;34m\u001b[0m\u001b[0;34m\u001b[0m\u001b[0m\n\u001b[0m\u001b[1;32m   1751\u001b[0m \u001b[0;34m\u001b[0m\u001b[0m\n\u001b[1;32m   1752\u001b[0m         \u001b[0mresult\u001b[0m \u001b[0;34m=\u001b[0m \u001b[0;32mNone\u001b[0m\u001b[0;34m\u001b[0m\u001b[0;34m\u001b[0m\u001b[0m\n",
            "\u001b[0;32m/usr/local/lib/python3.11/dist-packages/torchvision/transforms/transforms.py\u001b[0m in \u001b[0;36mforward\u001b[0;34m(self, img)\u001b[0m\n\u001b[1;32m    352\u001b[0m             \u001b[0mPIL\u001b[0m \u001b[0mImage\u001b[0m \u001b[0;32mor\u001b[0m \u001b[0mTensor\u001b[0m\u001b[0;34m:\u001b[0m \u001b[0mRescaled\u001b[0m \u001b[0mimage\u001b[0m\u001b[0;34m.\u001b[0m\u001b[0;34m\u001b[0m\u001b[0;34m\u001b[0m\u001b[0m\n\u001b[1;32m    353\u001b[0m         \"\"\"\n\u001b[0;32m--> 354\u001b[0;31m         \u001b[0;32mreturn\u001b[0m \u001b[0mF\u001b[0m\u001b[0;34m.\u001b[0m\u001b[0mresize\u001b[0m\u001b[0;34m(\u001b[0m\u001b[0mimg\u001b[0m\u001b[0;34m,\u001b[0m \u001b[0mself\u001b[0m\u001b[0;34m.\u001b[0m\u001b[0msize\u001b[0m\u001b[0;34m,\u001b[0m \u001b[0mself\u001b[0m\u001b[0;34m.\u001b[0m\u001b[0minterpolation\u001b[0m\u001b[0;34m,\u001b[0m \u001b[0mself\u001b[0m\u001b[0;34m.\u001b[0m\u001b[0mmax_size\u001b[0m\u001b[0;34m,\u001b[0m \u001b[0mself\u001b[0m\u001b[0;34m.\u001b[0m\u001b[0mantialias\u001b[0m\u001b[0;34m)\u001b[0m\u001b[0;34m\u001b[0m\u001b[0;34m\u001b[0m\u001b[0m\n\u001b[0m\u001b[1;32m    355\u001b[0m \u001b[0;34m\u001b[0m\u001b[0m\n\u001b[1;32m    356\u001b[0m     \u001b[0;32mdef\u001b[0m \u001b[0m__repr__\u001b[0m\u001b[0;34m(\u001b[0m\u001b[0mself\u001b[0m\u001b[0;34m)\u001b[0m \u001b[0;34m->\u001b[0m \u001b[0mstr\u001b[0m\u001b[0;34m:\u001b[0m\u001b[0;34m\u001b[0m\u001b[0;34m\u001b[0m\u001b[0m\n",
            "\u001b[0;32m/usr/local/lib/python3.11/dist-packages/torchvision/transforms/functional.py\u001b[0m in \u001b[0;36mresize\u001b[0;34m(img, size, interpolation, max_size, antialias)\u001b[0m\n\u001b[1;32m    475\u001b[0m             \u001b[0mwarnings\u001b[0m\u001b[0;34m.\u001b[0m\u001b[0mwarn\u001b[0m\u001b[0;34m(\u001b[0m\u001b[0;34m\"Anti-alias option is always applied for PIL Image input. Argument antialias is ignored.\"\u001b[0m\u001b[0;34m)\u001b[0m\u001b[0;34m\u001b[0m\u001b[0;34m\u001b[0m\u001b[0m\n\u001b[1;32m    476\u001b[0m         \u001b[0mpil_interpolation\u001b[0m \u001b[0;34m=\u001b[0m \u001b[0mpil_modes_mapping\u001b[0m\u001b[0;34m[\u001b[0m\u001b[0minterpolation\u001b[0m\u001b[0;34m]\u001b[0m\u001b[0;34m\u001b[0m\u001b[0;34m\u001b[0m\u001b[0m\n\u001b[0;32m--> 477\u001b[0;31m         \u001b[0;32mreturn\u001b[0m \u001b[0mF_pil\u001b[0m\u001b[0;34m.\u001b[0m\u001b[0mresize\u001b[0m\u001b[0;34m(\u001b[0m\u001b[0mimg\u001b[0m\u001b[0;34m,\u001b[0m \u001b[0msize\u001b[0m\u001b[0;34m=\u001b[0m\u001b[0moutput_size\u001b[0m\u001b[0;34m,\u001b[0m \u001b[0minterpolation\u001b[0m\u001b[0;34m=\u001b[0m\u001b[0mpil_interpolation\u001b[0m\u001b[0;34m)\u001b[0m\u001b[0;34m\u001b[0m\u001b[0;34m\u001b[0m\u001b[0m\n\u001b[0m\u001b[1;32m    478\u001b[0m \u001b[0;34m\u001b[0m\u001b[0m\n\u001b[1;32m    479\u001b[0m     \u001b[0;32mreturn\u001b[0m \u001b[0mF_t\u001b[0m\u001b[0;34m.\u001b[0m\u001b[0mresize\u001b[0m\u001b[0;34m(\u001b[0m\u001b[0mimg\u001b[0m\u001b[0;34m,\u001b[0m \u001b[0msize\u001b[0m\u001b[0;34m=\u001b[0m\u001b[0moutput_size\u001b[0m\u001b[0;34m,\u001b[0m \u001b[0minterpolation\u001b[0m\u001b[0;34m=\u001b[0m\u001b[0minterpolation\u001b[0m\u001b[0;34m.\u001b[0m\u001b[0mvalue\u001b[0m\u001b[0;34m,\u001b[0m \u001b[0mantialias\u001b[0m\u001b[0;34m=\u001b[0m\u001b[0mantialias\u001b[0m\u001b[0;34m)\u001b[0m\u001b[0;34m\u001b[0m\u001b[0;34m\u001b[0m\u001b[0m\n",
            "\u001b[0;32m/usr/local/lib/python3.11/dist-packages/torchvision/transforms/_functional_pil.py\u001b[0m in \u001b[0;36mresize\u001b[0;34m(img, size, interpolation)\u001b[0m\n\u001b[1;32m    248\u001b[0m         \u001b[0;32mraise\u001b[0m \u001b[0mTypeError\u001b[0m\u001b[0;34m(\u001b[0m\u001b[0;34mf\"Got inappropriate size arg: {size}\"\u001b[0m\u001b[0;34m)\u001b[0m\u001b[0;34m\u001b[0m\u001b[0;34m\u001b[0m\u001b[0m\n\u001b[1;32m    249\u001b[0m \u001b[0;34m\u001b[0m\u001b[0m\n\u001b[0;32m--> 250\u001b[0;31m     \u001b[0;32mreturn\u001b[0m \u001b[0mimg\u001b[0m\u001b[0;34m.\u001b[0m\u001b[0mresize\u001b[0m\u001b[0;34m(\u001b[0m\u001b[0mtuple\u001b[0m\u001b[0;34m(\u001b[0m\u001b[0msize\u001b[0m\u001b[0;34m[\u001b[0m\u001b[0;34m:\u001b[0m\u001b[0;34m:\u001b[0m\u001b[0;34m-\u001b[0m\u001b[0;36m1\u001b[0m\u001b[0;34m]\u001b[0m\u001b[0;34m)\u001b[0m\u001b[0;34m,\u001b[0m \u001b[0minterpolation\u001b[0m\u001b[0;34m)\u001b[0m\u001b[0;34m\u001b[0m\u001b[0;34m\u001b[0m\u001b[0m\n\u001b[0m\u001b[1;32m    251\u001b[0m \u001b[0;34m\u001b[0m\u001b[0m\n\u001b[1;32m    252\u001b[0m \u001b[0;34m\u001b[0m\u001b[0m\n",
            "\u001b[0;32m/usr/local/lib/python3.11/dist-packages/PIL/Image.py\u001b[0m in \u001b[0;36mresize\u001b[0;34m(self, size, resample, box, reducing_gap)\u001b[0m\n\u001b[1;32m   2319\u001b[0m                 )\n\u001b[1;32m   2320\u001b[0m \u001b[0;34m\u001b[0m\u001b[0m\n\u001b[0;32m-> 2321\u001b[0;31m         \u001b[0;32mreturn\u001b[0m \u001b[0mself\u001b[0m\u001b[0;34m.\u001b[0m\u001b[0m_new\u001b[0m\u001b[0;34m(\u001b[0m\u001b[0mself\u001b[0m\u001b[0;34m.\u001b[0m\u001b[0mim\u001b[0m\u001b[0;34m.\u001b[0m\u001b[0mresize\u001b[0m\u001b[0;34m(\u001b[0m\u001b[0msize\u001b[0m\u001b[0;34m,\u001b[0m \u001b[0mresample\u001b[0m\u001b[0;34m,\u001b[0m \u001b[0mbox\u001b[0m\u001b[0;34m)\u001b[0m\u001b[0;34m)\u001b[0m\u001b[0;34m\u001b[0m\u001b[0;34m\u001b[0m\u001b[0m\n\u001b[0m\u001b[1;32m   2322\u001b[0m \u001b[0;34m\u001b[0m\u001b[0m\n\u001b[1;32m   2323\u001b[0m     def reduce(\n",
            "\u001b[0;31mKeyboardInterrupt\u001b[0m: "
          ]
        }
      ],
      "source": [
        "import csv\n",
        "\n",
        "\n",
        "torch.manual_seed(2356)\n",
        "\n",
        "# Augmentation added.\n",
        "train_dataset = FolderGroupedBatchTrainingDataset(\n",
        "    '/content/dataset/train',\n",
        "    transform=get_custom_transform(apply_prob=0.3))\n",
        "val_val_dataset = FolderGroupedBatchDataset('/content/dataset/train')\n",
        "tr_val_dataset = FolderGroupedBatchDataset('/content/dataset/valid')\n",
        "\n",
        "csv_log = f\"ReID_atten_train_logv1_{real_epoch}.csv\"\n",
        "with open(csv_log, 'w', newline='') as f:\n",
        "    writer = csv.writer(f)\n",
        "    writer.writerow([\"epoch\", \"loss\", \"train_intra\", \"train_inter\", \"val_intra\", \"val_inter\"])\n",
        "\n",
        "for epoch in range(50000):\n",
        "    model.train()\n",
        "    imgs, labels = train_dataset.sample(P=16, K=16)\n",
        "    imgs = torch.stack(imgs).to(device)\n",
        "    imgs = imgs.to(device)\n",
        "    embeddings = model(imgs)\n",
        "    loss = combined_triplet_loss(embeddings, labels,device=device)\n",
        "\n",
        "    optimizer.zero_grad()\n",
        "    loss.backward()\n",
        "    optimizer.step()\n",
        "\n",
        "    if (real_epoch+1) % 20==0:\n",
        "        print(f\"[Epoch {real_epoch+1}] Loss: {loss.item():.4f}\")\n",
        "\n",
        "\n",
        "\n",
        "        train_intra, train_inter = validate_similarity(model, tr_val_dataset, device)\n",
        "        val_intra, val_inter = validate_similarity(model, val_val_dataset, device)\n",
        "        print(f\"train_intra : {train_intra}, train_inter : {train_inter}\")\n",
        "        print(f\"valid_intra : {val_intra}, valid_inter : {val_inter}\")\n",
        "\n",
        "        with open(csv_log, 'a', newline='') as f:\n",
        "            writer = csv.writer(f)\n",
        "            writer.writerow([real_epoch+1, loss.item(), train_intra, train_inter, val_intra, val_inter])\n",
        "    if (real_epoch+1) % 500 == 0:\n",
        "        torch.save(model.state_dict(), 'ReID_attenv2/'+f\"ReIDAttenv2_{real_epoch+1}.pth\")\n",
        "\n",
        "    real_epoch += 1"
      ]
    },
    {
      "cell_type": "code",
      "execution_count": 83,
      "metadata": {
        "colab": {
          "base_uri": "https://localhost:8080/",
          "height": 260
        },
        "id": "qQNS-xMR-07z",
        "outputId": "91f7727b-193e-402f-9560-9dc7243f0d5b"
      },
      "outputs": [
        {
          "name": "stdout",
          "output_type": "stream",
          "text": [
            "  adding: content/ReID_attenv2/ (stored 0%)\n",
            "  adding: content/ReID_attenv2/ReIDAttenv2_6000.pth (deflated 24%)\n",
            "  adding: content/ReID_attenv2/ReIDAttenv2_3500.pth (deflated 24%)\n",
            "  adding: content/ReID_attenv2/ReIDAttenv2_1500.pth (deflated 24%)\n",
            "  adding: content/ReID_attenv2/ReIDAttenv2_4000.pth (deflated 24%)\n",
            "  adding: content/ReID_attenv2/ReIDAttenv2_6500.pth (deflated 24%)\n",
            "  adding: content/ReID_attenv2/ReIDAttenv2_500.pth (deflated 24%)\n",
            "  adding: content/ReID_attenv2/ReIDAttenv2_2500.pth (deflated 24%)\n",
            "  adding: content/ReID_attenv2/ReIDAttenv2_4500.pth (deflated 24%)\n",
            "  adding: content/ReID_attenv2/ReIDAttenv2_2000.pth (deflated 24%)\n",
            "  adding: content/ReID_attenv2/ReIDAttenv2_5000.pth (deflated 24%)\n",
            "  adding: content/ReID_attenv2/ReIDAttenv2_1000.pth (deflated 24%)\n",
            "  adding: content/ReID_attenv2/ReIDAttenv2_3000.pth (deflated 24%)\n",
            "  adding: content/ReID_attenv2/ReIDAttenv2_5500.pth (deflated 24%)\n"
          ]
        },
        {
          "data": {
            "application/javascript": "\n    async function download(id, filename, size) {\n      if (!google.colab.kernel.accessAllowed) {\n        return;\n      }\n      const div = document.createElement('div');\n      const label = document.createElement('label');\n      label.textContent = `Downloading \"${filename}\": `;\n      div.appendChild(label);\n      const progress = document.createElement('progress');\n      progress.max = size;\n      div.appendChild(progress);\n      document.body.appendChild(div);\n\n      const buffers = [];\n      let downloaded = 0;\n\n      const channel = await google.colab.kernel.comms.open(id);\n      // Send a message to notify the kernel that we're ready.\n      channel.send({})\n\n      for await (const message of channel.messages) {\n        // Send a message to notify the kernel that we're ready.\n        channel.send({})\n        if (message.buffers) {\n          for (const buffer of message.buffers) {\n            buffers.push(buffer);\n            downloaded += buffer.byteLength;\n            progress.value = downloaded;\n          }\n        }\n      }\n      const blob = new Blob(buffers, {type: 'application/binary'});\n      const a = document.createElement('a');\n      a.href = window.URL.createObjectURL(blob);\n      a.download = filename;\n      div.appendChild(a);\n      a.click();\n      div.remove();\n    }\n  ",
            "text/plain": [
              "<IPython.core.display.Javascript object>"
            ]
          },
          "metadata": {},
          "output_type": "display_data"
        },
        {
          "data": {
            "application/javascript": "download(\"download_98eefca5-a99b-400e-951d-0728141f86e0\", \"pth_attenv2_aug.zip\", 6474329)",
            "text/plain": [
              "<IPython.core.display.Javascript object>"
            ]
          },
          "metadata": {},
          "output_type": "display_data"
        },
        {
          "data": {
            "application/javascript": "\n    async function download(id, filename, size) {\n      if (!google.colab.kernel.accessAllowed) {\n        return;\n      }\n      const div = document.createElement('div');\n      const label = document.createElement('label');\n      label.textContent = `Downloading \"${filename}\": `;\n      div.appendChild(label);\n      const progress = document.createElement('progress');\n      progress.max = size;\n      div.appendChild(progress);\n      document.body.appendChild(div);\n\n      const buffers = [];\n      let downloaded = 0;\n\n      const channel = await google.colab.kernel.comms.open(id);\n      // Send a message to notify the kernel that we're ready.\n      channel.send({})\n\n      for await (const message of channel.messages) {\n        // Send a message to notify the kernel that we're ready.\n        channel.send({})\n        if (message.buffers) {\n          for (const buffer of message.buffers) {\n            buffers.push(buffer);\n            downloaded += buffer.byteLength;\n            progress.value = downloaded;\n          }\n        }\n      }\n      const blob = new Blob(buffers, {type: 'application/binary'});\n      const a = document.createElement('a');\n      a.href = window.URL.createObjectURL(blob);\n      a.download = filename;\n      div.appendChild(a);\n      a.click();\n      div.remove();\n    }\n  ",
            "text/plain": [
              "<IPython.core.display.Javascript object>"
            ]
          },
          "metadata": {},
          "output_type": "display_data"
        },
        {
          "data": {
            "application/javascript": "download(\"download_664c8b79-c6e1-45ad-93c8-3e93b7ada000\", \"ReID_atten_train_logv1_0.csv\", 18587)",
            "text/plain": [
              "<IPython.core.display.Javascript object>"
            ]
          },
          "metadata": {},
          "output_type": "display_data"
        },
        {
          "data": {
            "application/javascript": "\n    async function download(id, filename, size) {\n      if (!google.colab.kernel.accessAllowed) {\n        return;\n      }\n      const div = document.createElement('div');\n      const label = document.createElement('label');\n      label.textContent = `Downloading \"${filename}\": `;\n      div.appendChild(label);\n      const progress = document.createElement('progress');\n      progress.max = size;\n      div.appendChild(progress);\n      document.body.appendChild(div);\n\n      const buffers = [];\n      let downloaded = 0;\n\n      const channel = await google.colab.kernel.comms.open(id);\n      // Send a message to notify the kernel that we're ready.\n      channel.send({})\n\n      for await (const message of channel.messages) {\n        // Send a message to notify the kernel that we're ready.\n        channel.send({})\n        if (message.buffers) {\n          for (const buffer of message.buffers) {\n            buffers.push(buffer);\n            downloaded += buffer.byteLength;\n            progress.value = downloaded;\n          }\n        }\n      }\n      const blob = new Blob(buffers, {type: 'application/binary'});\n      const a = document.createElement('a');\n      a.href = window.URL.createObjectURL(blob);\n      a.download = filename;\n      div.appendChild(a);\n      a.click();\n      div.remove();\n    }\n  ",
            "text/plain": [
              "<IPython.core.display.Javascript object>"
            ]
          },
          "metadata": {},
          "output_type": "display_data"
        },
        {
          "data": {
            "application/javascript": "download(\"download_f8c09a76-2542-4ab4-a405-91903ef15359\", \"ReID_atten_train_logv1_3582.csv\", 17174)",
            "text/plain": [
              "<IPython.core.display.Javascript object>"
            ]
          },
          "metadata": {},
          "output_type": "display_data"
        }
      ],
      "source": [
        "!zip -r /content/pth_attenv2_aug.zip /content/ReID_attenv2\n",
        "from google.colab import files\n",
        "files.download(\"/content/pth_attenv2_aug.zip\")\n",
        "files.download(\"/content/ReID_atten_train_logv1_0.csv\")\n",
        "files.download(\"/content/ReID_atten_train_logv1_3582.csv\")"
      ]
    },
    {
      "cell_type": "code",
      "execution_count": null,
      "metadata": {
        "id": "j8m7LjcP-k0T"
      },
      "outputs": [],
      "source": [
        "from tqdm import tqdm\n",
        "\n",
        "@torch.no_grad()\n",
        "def extract_features_ids(model, dataloader, device):\n",
        "    model.eval()\n",
        "    all_features = []\n",
        "    all_ids = []\n",
        "\n",
        "    for images, ids in tqdm(dataloader, desc=\"Extracting features\"):\n",
        "        images = images.to(device)\n",
        "        emb = model(images)  # [B, 128]\n",
        "        emb = F.normalize(emb, dim=1)  # cosine normalization\n",
        "\n",
        "        all_features.append(emb.cpu())\n",
        "        all_ids.extend(ids)  # assume ids are strings or ints\n",
        "\n",
        "    features = torch.cat(all_features, dim=0)\n",
        "    return features, all_ids"
      ]
    },
    {
      "cell_type": "code",
      "execution_count": null,
      "metadata": {
        "id": "B3ZJg-SjQ2RX"
      },
      "outputs": [],
      "source": [
        "import matplotlib.pyplot as plt\n",
        "def compute_similarity_gaps(features, ids,show=False):\n",
        "    sim_matrix = cosine_similarity(features.numpy())  # [N, N]\n",
        "    N = len(ids)\n",
        "    gaps = []\n",
        "\n",
        "    for i in range(N):\n",
        "        query_id = ids[i]\n",
        "        sim_scores = sim_matrix[i]\n",
        "\n",
        "        # exclude self\n",
        "        sim_scores[i] = -np.inf\n",
        "\n",
        "        # positive scores (same ID, not self)\n",
        "        pos_mask = np.array([j != i and ids[j] == query_id for j in range(N)])\n",
        "        neg_mask = np.array([ids[j] != query_id for j in range(N)])\n",
        "\n",
        "        if not np.any(pos_mask) or not np.any(neg_mask):\n",
        "            continue  # skip if no pos/neg samples\n",
        "\n",
        "        best_pos = np.max(sim_scores[pos_mask])\n",
        "        best_neg = np.max(sim_scores[neg_mask])\n",
        "\n",
        "        gap = best_pos - best_neg\n",
        "        gaps.append(gap)\n",
        "\n",
        "    gaps = np.array(gaps)\n",
        "    print(f\"Avg similarity gap (pos - hardest neg): {np.mean(gaps):.4f}\")\n",
        "    print(f\"% queries where positive > negative: {(gaps > 0).mean()*100:.2f}%\")\n",
        "    if(show):\n",
        "        # Optional: visualize\n",
        "        plt.hist(gaps, bins=40, color='blue', edgecolor='black')\n",
        "        plt.title(\"Distribution of (best positive - hardest negative) similarity gaps\")\n",
        "        plt.xlabel(\"Similarity Gap\")\n",
        "        plt.ylabel(\"Number of queries\")\n",
        "        plt.grid(True)\n",
        "        plt.show()"
      ]
    },
    {
      "cell_type": "code",
      "execution_count": null,
      "metadata": {
        "colab": {
          "base_uri": "https://localhost:8080/",
          "height": 507
        },
        "id": "wAO0sc_hQ3Hx",
        "outputId": "9c38885a-a386-430b-eeb2-70b2fd568c96"
      },
      "outputs": [
        {
          "name": "stdout",
          "output_type": "stream",
          "text": [
            "Avg similarity gap (pos - hardest neg): 0.1173\n",
            "% queries where positive > negative: 94.56%\n"
          ]
        },
        {
          "data": {
            "image/png": "[encoded data removed]",
            "text/plain": [
              "<Figure size 640x480 with 1 Axes>"
            ]
          },
          "metadata": {},
          "output_type": "display_data"
        }
      ],
      "source": [
        "features, ids = extract_features_ids(model, val_loader, device)\n",
        "compute_similarity_gaps(features, ids, show=True)"
      ]
    },
    {
      "cell_type": "code",
      "execution_count": null,
      "metadata": {
        "id": "i312_xG-WvXS"
      },
      "outputs": [],
      "source": []
    },
    {
      "cell_type": "code",
      "execution_count": null,
      "metadata": {
        "id": "pu9GUia9W1bx"
      },
      "outputs": [],
      "source": [
        "\n"
      ]
    },
    {
      "cell_type": "code",
      "execution_count": null,
      "metadata": {
        "id": "_SxvkvKNW61C"
      },
      "outputs": [],
      "source": []
    },
    {
      "cell_type": "code",
      "execution_count": null,
      "metadata": {
        "colab": {
          "base_uri": "https://localhost:8080/"
        },
        "id": "wwWGm9FfY4Rj",
        "outputId": "c02f0355-299f-411b-f90a-9cc68933eafe"
      },
      "outputs": [
        {
          "name": "stdout",
          "output_type": "stream",
          "text": [
            "Avg similarity (same ID):     0.2792\n",
            "Avg similarity (different ID): 0.0508\n"
          ]
        }
      ],
      "source": [
        "intra, inter = compute_intra_inter_similarity(features, ids)"
      ]
    },
    {
      "cell_type": "code",
      "execution_count": null,
      "metadata": {
        "id": "O5kXDELva_Tj"
      },
      "outputs": [],
      "source": []
    }
  ],
  "metadata": {
    "accelerator": "GPU",
    "colab": {
      "gpuType": "T4",
      "provenance": []
    },
    "kernelspec": {
      "display_name": "Python 3",
      "name": "python3"
    },
    "language_info": {
      "name": "python"
    }
  },
  "nbformat": 4,
  "nbformat_minor": 0
}
